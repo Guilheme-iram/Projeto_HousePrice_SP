{
 "cells": [
  {
   "cell_type": "markdown",
   "id": "741404f5-08e2-4d26-a599-4b6b0715b9fc",
   "metadata": {},
   "source": [
    "# Projeto - Análise do preço das casas de São Paulo\n",
    "\n",
    "### Autor: Guilherme Iram\n",
    "### Fonte dos dados: https://www.kaggle.com/datasets/kaggleshashankk/house-price-data-of-sao-paulo\n",
    "\n"
   ]
  },
  {
   "cell_type": "markdown",
   "id": "072f32c9-58a7-4c29-b9ad-5ec104b88dd3",
   "metadata": {},
   "source": [
    "# Informações sobre o dataset\n",
    "- Street (Rua) - Localização da rua a qual a casa pertence\n",
    "- City (Cidade) - Cidade que a casa está localizada\n",
    "- Propertycard__detailvalue (Área) - Área em metros quadrados da casa\n",
    "- Quartos (Quartos) - Número de quartos da casa\n",
    "- Banheiros (Banheiros) - Número de banheiros da casa\n",
    "- Vagas (Vagas) - Vagas de estacionamento por veículo\n",
    "- Price (Custo) - Preço da casa em BRL (real brasileiro)"
   ]
  },
  {
   "cell_type": "markdown",
   "id": "38931407-a527-4e82-b20d-ca80e607b36f",
   "metadata": {},
   "source": [
    "## Objetivos da análises:\n",
    "- Baseado nas características quantitativas do dataset, fazer uma análise visual desses atributos e propor um modelo de regressão.\n",
    "- Sugerir uma previsão do preço da casa baseado nas características desejadas pelo cliente."
   ]
  },
  {
   "cell_type": "markdown",
   "id": "c12d0610-ca86-44cf-872e-39d24f9b2d43",
   "metadata": {},
   "source": [
    "## 1 - Carregando as bibliotecas"
   ]
  },
  {
   "cell_type": "code",
   "execution_count": 1,
   "id": "8aa1d5fc-7982-47c0-9c13-c54d8eb047b1",
   "metadata": {},
   "outputs": [],
   "source": [
    "import pandas as pd\n",
    "import numpy as np\n",
    "import matplotlib.pyplot as plt\n",
    "%matplotlib inline"
   ]
  },
  {
   "cell_type": "markdown",
   "id": "acca1019-afdb-412f-9ce1-df48a8544081",
   "metadata": {},
   "source": [
    "## 2 - Carregando o dataset, tratamento & análises prévias"
   ]
  },
  {
   "cell_type": "code",
   "execution_count": 2,
   "id": "028a38e3-06ce-4b08-917f-d7cab1995e1a",
   "metadata": {},
   "outputs": [],
   "source": [
    "df_sp = pd.read_excel(\"./dados/SaoPaulo.xlsx\")"
   ]
  },
  {
   "cell_type": "code",
   "execution_count": 3,
   "id": "db0803a3-4461-4f71-865d-014e9750126a",
   "metadata": {},
   "outputs": [
    {
     "data": {
      "text/html": [
       "<div>\n",
       "<style scoped>\n",
       "    .dataframe tbody tr th:only-of-type {\n",
       "        vertical-align: middle;\n",
       "    }\n",
       "\n",
       "    .dataframe tbody tr th {\n",
       "        vertical-align: top;\n",
       "    }\n",
       "\n",
       "    .dataframe thead th {\n",
       "        text-align: right;\n",
       "    }\n",
       "</style>\n",
       "<table border=\"1\" class=\"dataframe\">\n",
       "  <thead>\n",
       "    <tr style=\"text-align: right;\">\n",
       "      <th></th>\n",
       "      <th>Street</th>\n",
       "      <th>City</th>\n",
       "      <th>propertycard__detailvalue</th>\n",
       "      <th>quartos</th>\n",
       "      <th>banheiros</th>\n",
       "      <th>vagas</th>\n",
       "      <th>price</th>\n",
       "    </tr>\n",
       "  </thead>\n",
       "  <tbody>\n",
       "    <tr>\n",
       "      <th>0</th>\n",
       "      <td>Avenida Itacira, 255</td>\n",
       "      <td>Planalto Paulista, São Paulo</td>\n",
       "      <td>1000</td>\n",
       "      <td>4</td>\n",
       "      <td>8</td>\n",
       "      <td>6</td>\n",
       "      <td>R$ 7.000.000</td>\n",
       "    </tr>\n",
       "    <tr>\n",
       "      <th>1</th>\n",
       "      <td>Rua Aurelia Perez Alvarez, 42</td>\n",
       "      <td>Jardim dos Estados, São Paulo</td>\n",
       "      <td>469-524</td>\n",
       "      <td>3-6</td>\n",
       "      <td>3-6</td>\n",
       "      <td>4</td>\n",
       "      <td>R$ 3.700.000</td>\n",
       "    </tr>\n",
       "    <tr>\n",
       "      <th>2</th>\n",
       "      <td>Rua Alba Valdez</td>\n",
       "      <td>Jardim Reimberg, São Paulo</td>\n",
       "      <td>125</td>\n",
       "      <td>4</td>\n",
       "      <td>3</td>\n",
       "      <td>2</td>\n",
       "      <td>R$ 380.000</td>\n",
       "    </tr>\n",
       "    <tr>\n",
       "      <th>3</th>\n",
       "      <td>Jardim Morumbi, São Paulo</td>\n",
       "      <td>SP</td>\n",
       "      <td>310</td>\n",
       "      <td>3</td>\n",
       "      <td>2</td>\n",
       "      <td>4</td>\n",
       "      <td>R$ 685.000</td>\n",
       "    </tr>\n",
       "    <tr>\n",
       "      <th>4</th>\n",
       "      <td>Rua Tobias Barreto, 195</td>\n",
       "      <td>Mooca, São Paulo</td>\n",
       "      <td>100</td>\n",
       "      <td>3</td>\n",
       "      <td>2</td>\n",
       "      <td>2</td>\n",
       "      <td>R$ 540.000</td>\n",
       "    </tr>\n",
       "  </tbody>\n",
       "</table>\n",
       "</div>"
      ],
      "text/plain": [
       "                           Street                             City  \\\n",
       "0           Avenida Itacira, 255     Planalto Paulista, São Paulo    \n",
       "1  Rua Aurelia Perez Alvarez, 42    Jardim dos Estados, São Paulo    \n",
       "2                Rua Alba Valdez       Jardim Reimberg, São Paulo    \n",
       "3      Jardim Morumbi, São Paulo                                SP   \n",
       "4        Rua Tobias Barreto, 195                 Mooca, São Paulo    \n",
       "\n",
       "  propertycard__detailvalue quartos banheiros vagas         price  \n",
       "0                      1000       4         8     6  R$ 7.000.000  \n",
       "1                   469-524     3-6       3-6     4  R$ 3.700.000  \n",
       "2                       125       4         3     2    R$ 380.000  \n",
       "3                       310       3         2     4    R$ 685.000  \n",
       "4                       100       3         2     2    R$ 540.000  "
      ]
     },
     "execution_count": 3,
     "metadata": {},
     "output_type": "execute_result"
    }
   ],
   "source": [
    "df_sp.head()"
   ]
  },
  {
   "cell_type": "code",
   "execution_count": 4,
   "id": "a70be416-636c-4cd8-abb4-99f26a680c29",
   "metadata": {},
   "outputs": [],
   "source": [
    "dict_rename = {'Street': 'rua',\n",
    "              'City': 'cidade',\n",
    "              'propertycard__detailvalue': 'area_metro_quadrado',\n",
    "              'quartos': 'quartos',\n",
    "              'banheiros': 'banheiros',\n",
    "              'vagas': 'vagas',\n",
    "              'price': 'preco'}\n",
    "df_sp.rename(columns=dict_rename, inplace=True)"
   ]
  },
  {
   "cell_type": "code",
   "execution_count": 5,
   "id": "f7efcb66-2af5-48cf-ae7a-b763fad7713b",
   "metadata": {},
   "outputs": [
    {
     "name": "stdout",
     "output_type": "stream",
     "text": [
      "<class 'pandas.core.frame.DataFrame'>\n",
      "RangeIndex: 10033 entries, 0 to 10032\n",
      "Data columns (total 7 columns):\n",
      " #   Column               Non-Null Count  Dtype \n",
      "---  ------               --------------  ----- \n",
      " 0   rua                  10033 non-null  object\n",
      " 1   cidade               10033 non-null  object\n",
      " 2   area_metro_quadrado  10033 non-null  object\n",
      " 3   quartos              10033 non-null  object\n",
      " 4   banheiros            10033 non-null  object\n",
      " 5   vagas                10033 non-null  object\n",
      " 6   preco                10033 non-null  object\n",
      "dtypes: object(7)\n",
      "memory usage: 548.8+ KB\n"
     ]
    }
   ],
   "source": [
    "df_sp.info()"
   ]
  },
  {
   "cell_type": "markdown",
   "id": "fc920b38-7790-4e16-906b-bced80e79f79",
   "metadata": {},
   "source": [
    " - Necessidade de efetuar limpesa e tratamento de dados \n",
    " - Limpar valores quantitativos, como os metros quadrados, número de quartos, banheiros e remover o cifrão do preço\n",
    " - Sem dados faltantes"
   ]
  },
  {
   "cell_type": "markdown",
   "id": "ee3b4913-d116-4514-8093-6352a0b5fd11",
   "metadata": {},
   "source": [
    "## 3 - Limpeza dos dados"
   ]
  },
  {
   "cell_type": "markdown",
   "id": "7df07b6a-174d-4cbe-b92e-264a3d14f9ed",
   "metadata": {},
   "source": [
    "### 3.1 - Tratando a coluna 'preco'"
   ]
  },
  {
   "cell_type": "code",
   "execution_count": 6,
   "id": "f35d265d-e6f1-496c-acb2-bbeae837739f",
   "metadata": {},
   "outputs": [],
   "source": [
    "def trata_valores_cifrao(x):\n",
    "    try:\n",
    "        for i in range(len(x)):\n",
    "\n",
    "            aux[i, 0] = (x[i, 0].split()[1])\n",
    "            aux[i, 0] = x[i, 0].split('.')\n",
    "            _ = aux[i, 0].copy()\n",
    "            aux[i, 0] = ''\n",
    "\n",
    "            for c in _:\n",
    "                x[i, 0] += c\n",
    "            x[i, 0] = float(x[i, 0])\n",
    "    except:\n",
    "        print(\"Valor já tratado!\")\n",
    "    return aux"
   ]
  },
  {
   "cell_type": "code",
   "execution_count": 7,
   "id": "af1f8f94-1cf6-4839-b205-6330fd978bb3",
   "metadata": {},
   "outputs": [
    {
     "data": {
      "text/plain": [
       "array(['R$ 7.000.000', 'R$ 3.700.000', 'R$ 380.000', ..., 'R$ 553.000',\n",
       "       'R$ 951.000', 'R$ 2.200\\n                      /Mês'], dtype=object)"
      ]
     },
     "execution_count": 7,
     "metadata": {},
     "output_type": "execute_result"
    }
   ],
   "source": [
    "df_sp[\"preco\"].unique()"
   ]
  },
  {
   "cell_type": "code",
   "execution_count": 8,
   "id": "0b247f7d-0bc6-4573-9a10-a8ec1b9f0441",
   "metadata": {},
   "outputs": [],
   "source": [
    "aux = df_sp.loc[:, \"preco\"]\n",
    "aux = np.array(aux)\n",
    "aux = aux.reshape([-1, 1])\n",
    "\n",
    "df_sp.loc[:, \"preco\"] = trata_valores_cifrao(aux)"
   ]
  },
  {
   "cell_type": "markdown",
   "id": "863e3e3e-9842-4955-9dc0-5e602fe1c6ce",
   "metadata": {},
   "source": [
    "### 3.2 - Tratando a coluna 'area_metro_quadrado'\n",
    "\n",
    "- Aqui será feito uma convenção, para todos os valores no formato 'x-y', será usado o y para substituir a expressão.\n",
    "- Isso vale pras demais colunas."
   ]
  },
  {
   "cell_type": "code",
   "execution_count": 9,
   "id": "4f6f5c79-47d3-4537-b69e-2d3a8c0da25d",
   "metadata": {},
   "outputs": [
    {
     "data": {
      "text/plain": [
       "array(['1000', '469-524', '125', '310', '100', '440', '145', '150',\n",
       "       '46-50', '114'], dtype=object)"
      ]
     },
     "execution_count": 9,
     "metadata": {},
     "output_type": "execute_result"
    }
   ],
   "source": [
    "df_sp[\"area_metro_quadrado\"].unique()[:10]"
   ]
  },
  {
   "cell_type": "code",
   "execution_count": 10,
   "id": "5c242c92-b42c-4778-8d12-3d5d4a7916e9",
   "metadata": {},
   "outputs": [],
   "source": [
    "def trata_valores_inteiros(x):\n",
    "    try:\n",
    "        for i in range(len(x)):\n",
    "            x[i, 0] = x[i, 0].split('-')\n",
    "\n",
    "            if len(x[i, 0]) == 2:\n",
    "                x[i, 0] = x[i, 0][1] \n",
    "            _ = x[i, 0]\n",
    "            aux[i, 0] = ''\n",
    "\n",
    "            for c in _:\n",
    "                x[i, 0] += c\n",
    "            aux[i, 0] = int(x[i, 0])\n",
    "    except:\n",
    "         print(\"Valor já tratado!\")\n",
    "    return aux"
   ]
  },
  {
   "cell_type": "code",
   "execution_count": 11,
   "id": "44560cb7-7e7c-4943-80fb-f712baa5cb68",
   "metadata": {},
   "outputs": [],
   "source": [
    "aux = df_sp.loc[:, \"area_metro_quadrado\"]\n",
    "aux = np.array(aux)\n",
    "aux = aux.reshape([-1, 1])\n",
    "\n",
    "df_sp.loc[:, \"area_metro_quadrado\"] = trata_valores_inteiros(aux)"
   ]
  },
  {
   "cell_type": "markdown",
   "id": "e8d5259e-f3b7-4a89-b77c-d5dd1a900800",
   "metadata": {},
   "source": [
    "### 3.3 - Tratando a coluna 'quartos'"
   ]
  },
  {
   "cell_type": "code",
   "execution_count": 12,
   "id": "e0e78ecb-dd63-4908-a3e6-1a716267d579",
   "metadata": {},
   "outputs": [
    {
     "data": {
      "text/plain": [
       "array(['4', '3-6', '3', '2', '7', '2-3', '5', '6', '1', '8', '11', '10',\n",
       "       '9', '13', '12', '15', '16'], dtype=object)"
      ]
     },
     "execution_count": 12,
     "metadata": {},
     "output_type": "execute_result"
    }
   ],
   "source": [
    "df_sp[\"quartos\"].unique()"
   ]
  },
  {
   "cell_type": "code",
   "execution_count": 13,
   "id": "dfe9d270-9f76-42d6-b7d8-324bc6a58e89",
   "metadata": {},
   "outputs": [],
   "source": [
    "aux = df_sp.loc[:, \"quartos\"]\n",
    "aux = np.array(aux)\n",
    "aux = aux.reshape([-1, 1])\n",
    "\n",
    "df_sp.loc[:, \"quartos\"] = trata_valores_inteiros(aux)"
   ]
  },
  {
   "cell_type": "markdown",
   "id": "be6ed2d6-6252-4bef-92b6-6020a6f2f806",
   "metadata": {},
   "source": [
    "### 3.4 - Tratando a coluna 'banheiros'"
   ]
  },
  {
   "cell_type": "code",
   "execution_count": 14,
   "id": "bf2ad94e-149b-4eb7-8666-ec8642cf3cd1",
   "metadata": {},
   "outputs": [
    {
     "data": {
      "text/plain": [
       "array(['8', '3-6', '3', '2', '4', '1', '5', '7', '6', '9', '10', '11',\n",
       "       '12', '40', '14', '16'], dtype=object)"
      ]
     },
     "execution_count": 14,
     "metadata": {},
     "output_type": "execute_result"
    }
   ],
   "source": [
    "df_sp[\"banheiros\"].unique()"
   ]
  },
  {
   "cell_type": "code",
   "execution_count": 15,
   "id": "ca9a7576-7c18-45a6-b820-61f2f259d190",
   "metadata": {},
   "outputs": [],
   "source": [
    "aux = df_sp.loc[:, \"banheiros\"]\n",
    "aux = np.array(aux)\n",
    "aux = aux.reshape([-1, 1])\n",
    "\n",
    "df_sp.loc[:, \"banheiros\"] = trata_valores_inteiros(aux)"
   ]
  },
  {
   "cell_type": "markdown",
   "id": "f58a4572-f1b7-4c57-ab9c-3b7411c032d2",
   "metadata": {},
   "source": [
    "### 3.5 - Tratando a coluna 'vagas'"
   ]
  },
  {
   "cell_type": "code",
   "execution_count": 16,
   "id": "69616b6c-2003-4700-8e3b-8e739a6923c4",
   "metadata": {},
   "outputs": [
    {
     "data": {
      "text/plain": [
       "array(['6', '4', '2', '1', '3', '5', '1-2', '8', '7', '10', '12', '9',\n",
       "       '20', '13', '15', '25', '14', '18', '11', '38', '30', '26', '24',\n",
       "       '16', '42', '34', '23', '40', '50'], dtype=object)"
      ]
     },
     "execution_count": 16,
     "metadata": {},
     "output_type": "execute_result"
    }
   ],
   "source": [
    "df_sp[\"vagas\"].unique()"
   ]
  },
  {
   "cell_type": "code",
   "execution_count": 17,
   "id": "5ddfc8ee-5462-4c3b-b273-46358e511984",
   "metadata": {},
   "outputs": [],
   "source": [
    "aux = df_sp.loc[:, \"vagas\"]\n",
    "aux = np.array(aux)\n",
    "aux = aux.reshape([-1, 1])\n",
    "\n",
    "df_sp.loc[:, \"vagas\"] = trata_valores_inteiros(aux)"
   ]
  },
  {
   "cell_type": "markdown",
   "id": "a7afae8a-ca01-4d1c-bd10-58ceb492dd89",
   "metadata": {},
   "source": [
    "### 3.6 - Cotemplando as mudanças & salvando novo xlsx"
   ]
  },
  {
   "cell_type": "code",
   "execution_count": 18,
   "id": "3f94fe32-d005-45e7-8df1-95c2c05cd663",
   "metadata": {},
   "outputs": [
    {
     "data": {
      "text/html": [
       "<div>\n",
       "<style scoped>\n",
       "    .dataframe tbody tr th:only-of-type {\n",
       "        vertical-align: middle;\n",
       "    }\n",
       "\n",
       "    .dataframe tbody tr th {\n",
       "        vertical-align: top;\n",
       "    }\n",
       "\n",
       "    .dataframe thead th {\n",
       "        text-align: right;\n",
       "    }\n",
       "</style>\n",
       "<table border=\"1\" class=\"dataframe\">\n",
       "  <thead>\n",
       "    <tr style=\"text-align: right;\">\n",
       "      <th></th>\n",
       "      <th>rua</th>\n",
       "      <th>cidade</th>\n",
       "      <th>area_metro_quadrado</th>\n",
       "      <th>quartos</th>\n",
       "      <th>banheiros</th>\n",
       "      <th>vagas</th>\n",
       "      <th>preco</th>\n",
       "    </tr>\n",
       "  </thead>\n",
       "  <tbody>\n",
       "    <tr>\n",
       "      <th>0</th>\n",
       "      <td>Avenida Itacira, 255</td>\n",
       "      <td>Planalto Paulista, São Paulo</td>\n",
       "      <td>1000</td>\n",
       "      <td>4</td>\n",
       "      <td>8</td>\n",
       "      <td>6</td>\n",
       "      <td>7000000.0</td>\n",
       "    </tr>\n",
       "    <tr>\n",
       "      <th>1</th>\n",
       "      <td>Rua Aurelia Perez Alvarez, 42</td>\n",
       "      <td>Jardim dos Estados, São Paulo</td>\n",
       "      <td>524</td>\n",
       "      <td>6</td>\n",
       "      <td>6</td>\n",
       "      <td>4</td>\n",
       "      <td>3700000.0</td>\n",
       "    </tr>\n",
       "    <tr>\n",
       "      <th>2</th>\n",
       "      <td>Rua Alba Valdez</td>\n",
       "      <td>Jardim Reimberg, São Paulo</td>\n",
       "      <td>125</td>\n",
       "      <td>4</td>\n",
       "      <td>3</td>\n",
       "      <td>2</td>\n",
       "      <td>380000.0</td>\n",
       "    </tr>\n",
       "    <tr>\n",
       "      <th>3</th>\n",
       "      <td>Jardim Morumbi, São Paulo</td>\n",
       "      <td>SP</td>\n",
       "      <td>310</td>\n",
       "      <td>3</td>\n",
       "      <td>2</td>\n",
       "      <td>4</td>\n",
       "      <td>685000.0</td>\n",
       "    </tr>\n",
       "    <tr>\n",
       "      <th>4</th>\n",
       "      <td>Rua Tobias Barreto, 195</td>\n",
       "      <td>Mooca, São Paulo</td>\n",
       "      <td>100</td>\n",
       "      <td>3</td>\n",
       "      <td>2</td>\n",
       "      <td>2</td>\n",
       "      <td>540000.0</td>\n",
       "    </tr>\n",
       "    <tr>\n",
       "      <th>5</th>\n",
       "      <td>Rua Graham Bell</td>\n",
       "      <td>Santo Amaro, São Paulo</td>\n",
       "      <td>440</td>\n",
       "      <td>4</td>\n",
       "      <td>4</td>\n",
       "      <td>6</td>\n",
       "      <td>1980000.0</td>\n",
       "    </tr>\n",
       "    <tr>\n",
       "      <th>6</th>\n",
       "      <td>Rua Francisco Paulo, 31</td>\n",
       "      <td>Cidade Mãe do Céu, São Paulo</td>\n",
       "      <td>145</td>\n",
       "      <td>4</td>\n",
       "      <td>4</td>\n",
       "      <td>2</td>\n",
       "      <td>850000.0</td>\n",
       "    </tr>\n",
       "    <tr>\n",
       "      <th>7</th>\n",
       "      <td>Rua Guilherme Valente, 150</td>\n",
       "      <td>Jardim Vergueiro, São Paulo</td>\n",
       "      <td>150</td>\n",
       "      <td>2</td>\n",
       "      <td>2</td>\n",
       "      <td>2</td>\n",
       "      <td>450000.0</td>\n",
       "    </tr>\n",
       "    <tr>\n",
       "      <th>8</th>\n",
       "      <td>Rua Sagrada Família, 8</td>\n",
       "      <td>Jardim Benfica, São Paulo</td>\n",
       "      <td>50</td>\n",
       "      <td>2</td>\n",
       "      <td>1</td>\n",
       "      <td>1</td>\n",
       "      <td>199900.0</td>\n",
       "    </tr>\n",
       "    <tr>\n",
       "      <th>9</th>\n",
       "      <td>Rua Tapaji</td>\n",
       "      <td>Vila Alpina, São Paulo</td>\n",
       "      <td>114</td>\n",
       "      <td>3</td>\n",
       "      <td>3</td>\n",
       "      <td>2</td>\n",
       "      <td>585000.0</td>\n",
       "    </tr>\n",
       "    <tr>\n",
       "      <th>10</th>\n",
       "      <td>Rua Vigário João Álvares, 66</td>\n",
       "      <td>Vila Monumento, São Paulo</td>\n",
       "      <td>261</td>\n",
       "      <td>4</td>\n",
       "      <td>4</td>\n",
       "      <td>3</td>\n",
       "      <td>700000.0</td>\n",
       "    </tr>\n",
       "    <tr>\n",
       "      <th>11</th>\n",
       "      <td>Jardim Luzitânia, São Paulo</td>\n",
       "      <td>SP</td>\n",
       "      <td>436</td>\n",
       "      <td>4</td>\n",
       "      <td>3</td>\n",
       "      <td>3</td>\n",
       "      <td>15000.0</td>\n",
       "    </tr>\n",
       "    <tr>\n",
       "      <th>12</th>\n",
       "      <td>Rua Tuim, 449</td>\n",
       "      <td>Vila Uberabinha, São Paulo</td>\n",
       "      <td>193</td>\n",
       "      <td>3</td>\n",
       "      <td>3</td>\n",
       "      <td>2</td>\n",
       "      <td>2500000.0</td>\n",
       "    </tr>\n",
       "    <tr>\n",
       "      <th>13</th>\n",
       "      <td>Rua Antônio Pereira Mendes, 98</td>\n",
       "      <td>Jardim Prudência, São Paulo</td>\n",
       "      <td>251</td>\n",
       "      <td>3</td>\n",
       "      <td>5</td>\n",
       "      <td>4</td>\n",
       "      <td>1700000.0</td>\n",
       "    </tr>\n",
       "    <tr>\n",
       "      <th>14</th>\n",
       "      <td>Rua João Antunes Carvalho, 75</td>\n",
       "      <td>Lauzane Paulista, São Paulo</td>\n",
       "      <td>300</td>\n",
       "      <td>4</td>\n",
       "      <td>5</td>\n",
       "      <td>4</td>\n",
       "      <td>1150000.0</td>\n",
       "    </tr>\n",
       "  </tbody>\n",
       "</table>\n",
       "</div>"
      ],
      "text/plain": [
       "                                rua                           cidade  \\\n",
       "0             Avenida Itacira, 255     Planalto Paulista, São Paulo    \n",
       "1    Rua Aurelia Perez Alvarez, 42    Jardim dos Estados, São Paulo    \n",
       "2                  Rua Alba Valdez       Jardim Reimberg, São Paulo    \n",
       "3        Jardim Morumbi, São Paulo                                SP   \n",
       "4          Rua Tobias Barreto, 195                 Mooca, São Paulo    \n",
       "5                  Rua Graham Bell           Santo Amaro, São Paulo    \n",
       "6          Rua Francisco Paulo, 31     Cidade Mãe do Céu, São Paulo    \n",
       "7       Rua Guilherme Valente, 150      Jardim Vergueiro, São Paulo    \n",
       "8           Rua Sagrada Família, 8        Jardim Benfica, São Paulo    \n",
       "9                       Rua Tapaji           Vila Alpina, São Paulo    \n",
       "10    Rua Vigário João Álvares, 66        Vila Monumento, São Paulo    \n",
       "11     Jardim Luzitânia, São Paulo                                SP   \n",
       "12                   Rua Tuim, 449       Vila Uberabinha, São Paulo    \n",
       "13  Rua Antônio Pereira Mendes, 98      Jardim Prudência, São Paulo    \n",
       "14   Rua João Antunes Carvalho, 75      Lauzane Paulista, São Paulo    \n",
       "\n",
       "   area_metro_quadrado quartos banheiros vagas      preco  \n",
       "0                 1000       4         8     6  7000000.0  \n",
       "1                  524       6         6     4  3700000.0  \n",
       "2                  125       4         3     2   380000.0  \n",
       "3                  310       3         2     4   685000.0  \n",
       "4                  100       3         2     2   540000.0  \n",
       "5                  440       4         4     6  1980000.0  \n",
       "6                  145       4         4     2   850000.0  \n",
       "7                  150       2         2     2   450000.0  \n",
       "8                   50       2         1     1   199900.0  \n",
       "9                  114       3         3     2   585000.0  \n",
       "10                 261       4         4     3   700000.0  \n",
       "11                 436       4         3     3    15000.0  \n",
       "12                 193       3         3     2  2500000.0  \n",
       "13                 251       3         5     4  1700000.0  \n",
       "14                 300       4         5     4  1150000.0  "
      ]
     },
     "execution_count": 18,
     "metadata": {},
     "output_type": "execute_result"
    }
   ],
   "source": [
    "df_sp.head(15)"
   ]
  },
  {
   "cell_type": "code",
   "execution_count": 19,
   "id": "4e2c7390-5f18-4026-b52a-519e5fa25561",
   "metadata": {},
   "outputs": [],
   "source": [
    "df_sp.to_csv(\"./dados/SaoPauloClean.csv\")"
   ]
  }
 ],
 "metadata": {
  "kernelspec": {
   "display_name": "Python 3",
   "language": "python",
   "name": "python3"
  },
  "language_info": {
   "codemirror_mode": {
    "name": "ipython",
    "version": 3
   },
   "file_extension": ".py",
   "mimetype": "text/x-python",
   "name": "python",
   "nbconvert_exporter": "python",
   "pygments_lexer": "ipython3",
   "version": "3.8.8"
  }
 },
 "nbformat": 4,
 "nbformat_minor": 5
}
