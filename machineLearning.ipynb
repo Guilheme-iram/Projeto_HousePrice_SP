{
 "cells": [
  {
   "cell_type": "markdown",
   "id": "523b18e0-045d-4d85-b2a3-b6efbea2b130",
   "metadata": {
    "tags": []
   },
   "source": [
    "### Aplicando Machine Learning sobre os dados\n",
    " - Carregando as bibliotecas para a nova etapa"
   ]
  },
  {
   "cell_type": "code",
   "execution_count": 1,
   "id": "d95dd979-0aad-4b04-9b2b-895ddea65ec2",
   "metadata": {},
   "outputs": [],
   "source": [
    "import numpy as np\n",
    "import pandas as pd\n",
    "import seaborn as sns\n",
    "import matplotlib.pyplot as plt\n",
    "%matplotlib inline"
   ]
  },
  {
   "cell_type": "code",
   "execution_count": 2,
   "id": "1ba239c6-7bd9-4742-abb6-bd62e8e6cb48",
   "metadata": {},
   "outputs": [],
   "source": [
    "import warnings\n",
    "warnings.filterwarnings('ignore')"
   ]
  },
  {
   "cell_type": "code",
   "execution_count": 3,
   "id": "ff451294-55c0-431a-9034-48ee0b56f654",
   "metadata": {},
   "outputs": [],
   "source": [
    "sp_houses_df = pd.read_csv(\"./dados/SaoPauloClean.csv\").drop(\"Unnamed: 0\", axis=1)"
   ]
  },
  {
   "cell_type": "code",
   "execution_count": 4,
   "id": "85876b6a-0750-48e8-997e-313ba5727587",
   "metadata": {},
   "outputs": [
    {
     "data": {
      "text/html": [
       "<div>\n",
       "<style scoped>\n",
       "    .dataframe tbody tr th:only-of-type {\n",
       "        vertical-align: middle;\n",
       "    }\n",
       "\n",
       "    .dataframe tbody tr th {\n",
       "        vertical-align: top;\n",
       "    }\n",
       "\n",
       "    .dataframe thead th {\n",
       "        text-align: right;\n",
       "    }\n",
       "</style>\n",
       "<table border=\"1\" class=\"dataframe\">\n",
       "  <thead>\n",
       "    <tr style=\"text-align: right;\">\n",
       "      <th></th>\n",
       "      <th>area_metro_quadrado_int</th>\n",
       "      <th>quartos_int</th>\n",
       "      <th>banheiros_int</th>\n",
       "      <th>vagas_int</th>\n",
       "      <th>preco_anuncio_float</th>\n",
       "    </tr>\n",
       "  </thead>\n",
       "  <tbody>\n",
       "    <tr>\n",
       "      <th>0</th>\n",
       "      <td>1000</td>\n",
       "      <td>4</td>\n",
       "      <td>8</td>\n",
       "      <td>6</td>\n",
       "      <td>7000000.0</td>\n",
       "    </tr>\n",
       "    <tr>\n",
       "      <th>1</th>\n",
       "      <td>469</td>\n",
       "      <td>3</td>\n",
       "      <td>3</td>\n",
       "      <td>4</td>\n",
       "      <td>3700000.0</td>\n",
       "    </tr>\n",
       "    <tr>\n",
       "      <th>2</th>\n",
       "      <td>125</td>\n",
       "      <td>4</td>\n",
       "      <td>3</td>\n",
       "      <td>2</td>\n",
       "      <td>380000.0</td>\n",
       "    </tr>\n",
       "    <tr>\n",
       "      <th>3</th>\n",
       "      <td>310</td>\n",
       "      <td>3</td>\n",
       "      <td>2</td>\n",
       "      <td>4</td>\n",
       "      <td>685000.0</td>\n",
       "    </tr>\n",
       "    <tr>\n",
       "      <th>4</th>\n",
       "      <td>100</td>\n",
       "      <td>3</td>\n",
       "      <td>2</td>\n",
       "      <td>2</td>\n",
       "      <td>540000.0</td>\n",
       "    </tr>\n",
       "  </tbody>\n",
       "</table>\n",
       "</div>"
      ],
      "text/plain": [
       "   area_metro_quadrado_int  quartos_int  banheiros_int  vagas_int  \\\n",
       "0                     1000            4              8          6   \n",
       "1                      469            3              3          4   \n",
       "2                      125            4              3          2   \n",
       "3                      310            3              2          4   \n",
       "4                      100            3              2          2   \n",
       "\n",
       "   preco_anuncio_float  \n",
       "0            7000000.0  \n",
       "1            3700000.0  \n",
       "2             380000.0  \n",
       "3             685000.0  \n",
       "4             540000.0  "
      ]
     },
     "execution_count": 4,
     "metadata": {},
     "output_type": "execute_result"
    }
   ],
   "source": [
    "sp_houses_df.head()"
   ]
  },
  {
   "cell_type": "markdown",
   "id": "5f5f9928-8e45-455c-ab31-1281e43e04b8",
   "metadata": {},
   "source": [
    "## 5 - Produzindo o modelo de Regressão"
   ]
  },
  {
   "cell_type": "markdown",
   "id": "0c61f7b3-f127-4c5a-9a76-703b187e6d01",
   "metadata": {},
   "source": [
    "### 5.1 - Analisando a matriz de correlação"
   ]
  },
  {
   "cell_type": "code",
   "execution_count": 5,
   "id": "d6840b19-6372-4e59-ba59-8b53a947d2d7",
   "metadata": {},
   "outputs": [
    {
     "data": {
      "image/png": "[encoded data removed]",
      "text/plain": [
       "<Figure size 432x288 with 2 Axes>"
      ]
     },
     "metadata": {},
     "output_type": "display_data"
    }
   ],
   "source": [
    "import seaborn as sns; sns.set_theme()\n",
    "ax = sns.heatmap(sp_houses_df.corr(method=\"pearson\") ,cmap=\"YlGnBu\")"
   ]
  },
  {
   "cell_type": "markdown",
   "id": "fcc89fe4-229c-4f3f-8626-548c4f8b16e1",
   "metadata": {},
   "source": [
    "- A respeito da seleção de features para uma regressão linear, é importante que as variáveis explicativas sejam colunas com pouca correlação entre si e que as variáveis explicativas e que tenham uma correlação significativa com a variável explicativa.\n",
    "- Em se tratando do presente trabalho, as variáveis de área em m², numero de quartos, numero de banheiros e vagas de estacionamento serão escolhidas como explicativas.\n",
    "- A variável de controle será o preço anunciado do imóvel."
   ]
  },
  {
   "cell_type": "markdown",
   "id": "49ed7575-3d24-4272-b3f7-00905522db2c",
   "metadata": {},
   "source": [
    "### 5.2 - Analisando o histograma da variável de controle"
   ]
  },
  {
   "cell_type": "code",
   "execution_count": 6,
   "id": "1f6700e9-fafc-4c72-b8ff-41bdb506acfc",
   "metadata": {},
   "outputs": [
    {
     "data": {
      "image/png": "[encoded data removed]",
      "text/plain": [
       "<Figure size 1296x720 with 1 Axes>"
      ]
     },
     "metadata": {},
     "output_type": "display_data"
    }
   ],
   "source": [
    "import seaborn as sns\n",
    "import matplotlib.pyplot as plt\n",
    "\n",
    "sns.set()\n",
    "plt.figure(figsize=(18, 10))\n",
    "ax = sns.histplot(data = sp_houses_df, x = \"preco_anuncio_float\", kde = True)\n",
    "ax.set_title(\"Histograma Valor Imóvel\", fontsize = 22)\n",
    "ax.set_xlabel(\"Preço imovél (R$)\", fontsize=18)\n",
    "ax.set_ylabel(\"Total de imóveis\", fontsize=18)\n",
    "plt.xlim((-50, 10000000))\n",
    "plt.show()"
   ]
  },
  {
   "cell_type": "markdown",
   "id": "960f4e23-c45c-4094-9802-c8bef412339c",
   "metadata": {},
   "source": [
    "- Devido a assimetria que concentra o preço dos imóveis nas primeiras barras do histograma, as variáveis receberão uma transformação logarítmica para tentar normalizar os resultados e fazer previsões com maior precisão. "
   ]
  },
  {
   "cell_type": "code",
   "execution_count": 7,
   "id": "2c2b07d3-ec2e-489e-b13b-fb7e7026a36b",
   "metadata": {},
   "outputs": [
    {
     "data": {
      "text/html": [
       "<div>\n",
       "<style scoped>\n",
       "    .dataframe tbody tr th:only-of-type {\n",
       "        vertical-align: middle;\n",
       "    }\n",
       "\n",
       "    .dataframe tbody tr th {\n",
       "        vertical-align: top;\n",
       "    }\n",
       "\n",
       "    .dataframe thead th {\n",
       "        text-align: right;\n",
       "    }\n",
       "</style>\n",
       "<table border=\"1\" class=\"dataframe\">\n",
       "  <thead>\n",
       "    <tr style=\"text-align: right;\">\n",
       "      <th></th>\n",
       "      <th>area_metro_quadrado_int</th>\n",
       "      <th>quartos_int</th>\n",
       "      <th>banheiros_int</th>\n",
       "      <th>vagas_int</th>\n",
       "      <th>preco_anuncio_float</th>\n",
       "    </tr>\n",
       "  </thead>\n",
       "  <tbody>\n",
       "    <tr>\n",
       "      <th>0</th>\n",
       "      <td>6.908755</td>\n",
       "      <td>1.609438</td>\n",
       "      <td>2.197225</td>\n",
       "      <td>1.945910</td>\n",
       "      <td>15.761421</td>\n",
       "    </tr>\n",
       "    <tr>\n",
       "      <th>1</th>\n",
       "      <td>6.152733</td>\n",
       "      <td>1.386294</td>\n",
       "      <td>1.386294</td>\n",
       "      <td>1.609438</td>\n",
       "      <td>15.123844</td>\n",
       "    </tr>\n",
       "    <tr>\n",
       "      <th>2</th>\n",
       "      <td>4.836282</td>\n",
       "      <td>1.609438</td>\n",
       "      <td>1.386294</td>\n",
       "      <td>1.098612</td>\n",
       "      <td>12.847929</td>\n",
       "    </tr>\n",
       "    <tr>\n",
       "      <th>3</th>\n",
       "      <td>5.739793</td>\n",
       "      <td>1.386294</td>\n",
       "      <td>1.098612</td>\n",
       "      <td>1.609438</td>\n",
       "      <td>13.437176</td>\n",
       "    </tr>\n",
       "    <tr>\n",
       "      <th>4</th>\n",
       "      <td>4.615121</td>\n",
       "      <td>1.386294</td>\n",
       "      <td>1.098612</td>\n",
       "      <td>1.098612</td>\n",
       "      <td>13.199326</td>\n",
       "    </tr>\n",
       "  </tbody>\n",
       "</table>\n",
       "</div>"
      ],
      "text/plain": [
       "   area_metro_quadrado_int  quartos_int  banheiros_int  vagas_int  \\\n",
       "0                 6.908755     1.609438       2.197225   1.945910   \n",
       "1                 6.152733     1.386294       1.386294   1.609438   \n",
       "2                 4.836282     1.609438       1.386294   1.098612   \n",
       "3                 5.739793     1.386294       1.098612   1.609438   \n",
       "4                 4.615121     1.386294       1.098612   1.098612   \n",
       "\n",
       "   preco_anuncio_float  \n",
       "0            15.761421  \n",
       "1            15.123844  \n",
       "2            12.847929  \n",
       "3            13.437176  \n",
       "4            13.199326  "
      ]
     },
     "execution_count": 7,
     "metadata": {},
     "output_type": "execute_result"
    }
   ],
   "source": [
    "from sklearn.preprocessing import FunctionTransformer\n",
    "\n",
    "transformer = FunctionTransformer(np. log1p, validate = True)\n",
    "sp_houses_df_transformado = transformer.transform(sp_houses_df)\n",
    "colunas_sp_house_df = sp_houses_df.columns\n",
    "sp_houses_df_transformado = pd.DataFrame(sp_houses_df_transformado, columns=colunas_sp_house_df)\n",
    "sp_houses_df_transformado.head()"
   ]
  },
  {
   "cell_type": "code",
   "execution_count": 8,
   "id": "8e82130f-5630-4a5b-8322-4d0b425f94cb",
   "metadata": {},
   "outputs": [
    {
     "data": {
      "image/png": "[encoded data removed]",
      "text/plain": [
       "<Figure size 1296x720 with 1 Axes>"
      ]
     },
     "metadata": {},
     "output_type": "display_data"
    }
   ],
   "source": [
    "sns.set()\n",
    "plt.figure(figsize=(18, 10))\n",
    "ax = sns.histplot(data = sp_houses_df_transformado, x = \"preco_anuncio_float\", kde = True)\n",
    "ax.set_title(\"Histograma Valor Imóvel Transformado\", fontsize = 22)\n",
    "ax.set_xlabel(\"Preço imovél (R$)\", fontsize=18)\n",
    "ax.set_ylabel(\"Total de imóveis\", fontsize=18)\n",
    "plt.show()"
   ]
  },
  {
   "cell_type": "markdown",
   "id": "814cafe2-b768-4752-b5f2-c7a8691bfbc1",
   "metadata": {},
   "source": [
    "- Após a transformação logarítmica, a distribuição está mais próxima de uma distribuição simétrica.\n",
    "- Com uma distribuição mais simétrica, as previsões serão feitas com maior precisão."
   ]
  },
  {
   "cell_type": "code",
   "execution_count": 9,
   "id": "45a133f0-608d-4dc4-8d48-37c9e4079630",
   "metadata": {},
   "outputs": [
    {
     "data": {
      "image/png": "[encoded data removed]",
      "text/plain": [
       "<Figure size 432x288 with 2 Axes>"
      ]
     },
     "metadata": {},
     "output_type": "display_data"
    }
   ],
   "source": [
    "ax = sns.heatmap(sp_houses_df_transformado.corr(method=\"pearson\") ,cmap=\"YlGnBu\")"
   ]
  },
  {
   "cell_type": "markdown",
   "id": "ca11d836-a8bc-450b-98ea-120c41fc5bd2",
   "metadata": {},
   "source": [
    "- Com a normalização também fica evidente a alta correlação entre preço do imóvel e a sua quantidade de metros quadrados disponível."
   ]
  },
  {
   "cell_type": "code",
   "execution_count": 10,
   "id": "bfb430e9-185d-4ad0-a0d4-7068824c324d",
   "metadata": {},
   "outputs": [],
   "source": [
    "X = sp_houses_df_transformado[['area_metro_quadrado_int','quartos_int', 'banheiros_int', 'vagas_int']]"
   ]
  },
  {
   "cell_type": "code",
   "execution_count": 11,
   "id": "aa98c586-4e67-4224-86c4-6fe4a51c0a00",
   "metadata": {},
   "outputs": [],
   "source": [
    "y = sp_houses_df_transformado['preco_anuncio_float']"
   ]
  },
  {
   "cell_type": "code",
   "execution_count": 12,
   "id": "cc1fd482-cea4-4c31-a8cb-3c08e4b95078",
   "metadata": {},
   "outputs": [],
   "source": [
    "resultados_modelos_df = pd.DataFrame()\n",
    "resultados_modelos_dict = {\n",
    "    \"modelo\": [],\n",
    "    \"R2\": [],\n",
    "    \"MSE\": [],\n",
    "    \"MSA\": [],\n",
    "    \"media_cv\": [],\n",
    "    \"intervalo_cv\": []\n",
    "}"
   ]
  },
  {
   "cell_type": "markdown",
   "id": "38e3b199-49de-4eca-98e8-f6ffaf9523a8",
   "metadata": {},
   "source": [
    "### 5.3 - Separação entre dados de treino e dados de teste\n"
   ]
  },
  {
   "cell_type": "code",
   "execution_count": 13,
   "id": "2991a427-1190-4b93-b83a-d5ca885dfeb7",
   "metadata": {},
   "outputs": [],
   "source": [
    "from sklearn.model_selection import train_test_split"
   ]
  },
  {
   "cell_type": "code",
   "execution_count": 14,
   "id": "9d3a14e7-8445-4eed-8772-ea1ade98c4fc",
   "metadata": {},
   "outputs": [],
   "source": [
    "X_train, X_test, y_train, y_test = train_test_split(X, y, test_size=0.33, random_state=42)"
   ]
  },
  {
   "cell_type": "code",
   "execution_count": 15,
   "id": "b1cd2306-9fe1-4ddd-80bb-fc6298826688",
   "metadata": {},
   "outputs": [
    {
     "data": {
      "text/html": [
       "<div>\n",
       "<style scoped>\n",
       "    .dataframe tbody tr th:only-of-type {\n",
       "        vertical-align: middle;\n",
       "    }\n",
       "\n",
       "    .dataframe tbody tr th {\n",
       "        vertical-align: top;\n",
       "    }\n",
       "\n",
       "    .dataframe thead th {\n",
       "        text-align: right;\n",
       "    }\n",
       "</style>\n",
       "<table border=\"1\" class=\"dataframe\">\n",
       "  <thead>\n",
       "    <tr style=\"text-align: right;\">\n",
       "      <th></th>\n",
       "      <th>area_metro_quadrado_int</th>\n",
       "      <th>quartos_int</th>\n",
       "      <th>banheiros_int</th>\n",
       "      <th>vagas_int</th>\n",
       "    </tr>\n",
       "  </thead>\n",
       "  <tbody>\n",
       "    <tr>\n",
       "      <th>6304</th>\n",
       "      <td>5.564520</td>\n",
       "      <td>1.609438</td>\n",
       "      <td>1.386294</td>\n",
       "      <td>1.386294</td>\n",
       "    </tr>\n",
       "    <tr>\n",
       "      <th>5459</th>\n",
       "      <td>5.602119</td>\n",
       "      <td>1.386294</td>\n",
       "      <td>1.791759</td>\n",
       "      <td>1.791759</td>\n",
       "    </tr>\n",
       "    <tr>\n",
       "      <th>2300</th>\n",
       "      <td>6.115892</td>\n",
       "      <td>1.386294</td>\n",
       "      <td>1.609438</td>\n",
       "      <td>1.098612</td>\n",
       "    </tr>\n",
       "    <tr>\n",
       "      <th>5851</th>\n",
       "      <td>4.753590</td>\n",
       "      <td>1.098612</td>\n",
       "      <td>1.386294</td>\n",
       "      <td>1.098612</td>\n",
       "    </tr>\n",
       "    <tr>\n",
       "      <th>254</th>\n",
       "      <td>4.624973</td>\n",
       "      <td>1.386294</td>\n",
       "      <td>1.609438</td>\n",
       "      <td>1.098612</td>\n",
       "    </tr>\n",
       "  </tbody>\n",
       "</table>\n",
       "</div>"
      ],
      "text/plain": [
       "      area_metro_quadrado_int  quartos_int  banheiros_int  vagas_int\n",
       "6304                 5.564520     1.609438       1.386294   1.386294\n",
       "5459                 5.602119     1.386294       1.791759   1.791759\n",
       "2300                 6.115892     1.386294       1.609438   1.098612\n",
       "5851                 4.753590     1.098612       1.386294   1.098612\n",
       "254                  4.624973     1.386294       1.609438   1.098612"
      ]
     },
     "execution_count": 15,
     "metadata": {},
     "output_type": "execute_result"
    }
   ],
   "source": [
    "X_train.head()"
   ]
  },
  {
   "cell_type": "markdown",
   "id": "3f0aefb9-5e19-462a-a082-53e6867dc1c1",
   "metadata": {},
   "source": [
    "### 5.4 - Criando os modelos de Regressão"
   ]
  },
  {
   "cell_type": "markdown",
   "id": "dc6b6896-a677-450a-9bba-3aa527005147",
   "metadata": {},
   "source": [
    "#### a) Dummy Regressor\n",
    "- A ideia desse modelo será funcionar como um baseline para as análises, e à medida que outro modelos forem feitos, o baseline será atualizado."
   ]
  },
  {
   "cell_type": "code",
   "execution_count": 16,
   "id": "09efed94-b6cd-45f8-97c9-082c49908b62",
   "metadata": {},
   "outputs": [],
   "source": [
    "from sklearn.metrics import r2_score\n",
    "from sklearn.metrics import mean_squared_error, mean_absolute_error\n",
    "from sklearn.model_selection import cross_validate\n",
    "from sklearn.model_selection import KFold"
   ]
  },
  {
   "cell_type": "code",
   "execution_count": 17,
   "id": "70cde1e2-f6ef-47aa-a409-3926c2647d3e",
   "metadata": {},
   "outputs": [],
   "source": [
    "def cv_stats (resultado_cv):\n",
    "    media = resultado_cv['test_score'].mean()\n",
    "    desvio_padrao = resultado_cv['test_score'].std()\n",
    "    return media, [(media - 2 * desvio_padrao) * 100, (media + 2 * desvio_padrao) * 100]"
   ]
  },
  {
   "cell_type": "code",
   "execution_count": 18,
   "id": "07fc9a08-adb0-4a9f-b5aa-362a38229367",
   "metadata": {},
   "outputs": [],
   "source": [
    "def imprime_resultado(r2, MSE, MSA, media_cv, intervalo_cv):\n",
    "    print(f\"R2: {r2_score_dummy:.4f}\")\n",
    "    print(f\"MSE: {MSE_dummy:.4f}\")\n",
    "    print(f\"MSA: {MSA_dummy:.4f}\")\n",
    "    print(f\"Média CV: {media_cv:4f}\")\n",
    "    print(f\"Intervalo CV: [{intervalo_cv[0]:.4f}, {intervalo_cv[1]:.4f}]\")"
   ]
  },
  {
   "cell_type": "code",
   "execution_count": 19,
   "id": "578e0916-c3eb-4db5-aa37-77c4d3be2d77",
   "metadata": {},
   "outputs": [],
   "source": [
    "from sklearn.dummy import DummyRegressor"
   ]
  },
  {
   "cell_type": "code",
   "execution_count": 20,
   "id": "fc012e4f-496d-4ca1-b75b-2db1850a94ad",
   "metadata": {},
   "outputs": [],
   "source": [
    "# Dummy Regressor usando a estratégia de sempre chutar a mediana para a predição\n",
    "modelo_dummy = DummyRegressor(strategy=\"median\")"
   ]
  },
  {
   "cell_type": "code",
   "execution_count": 21,
   "id": "6f744114-7ed1-47bc-871f-3ca0dcca912e",
   "metadata": {},
   "outputs": [
    {
     "data": {
      "text/plain": [
       "DummyRegressor(strategy='median')"
      ]
     },
     "execution_count": 21,
     "metadata": {},
     "output_type": "execute_result"
    }
   ],
   "source": [
    "# Treinando o modelo com os dados de treino\n",
    "modelo_dummy.fit(X_train, y_train)"
   ]
  },
  {
   "cell_type": "code",
   "execution_count": 22,
   "id": "d62c8500-3621-4c19-8a2c-806f45e9f946",
   "metadata": {},
   "outputs": [],
   "source": [
    "# Utilizando Cross Validate (cv)\n",
    "cv = KFold(n_splits = 10, shuffle=True, random_state=42)\n",
    "resultado_cv = cross_validate(modelo_dummy, X, y, cv = cv, return_train_score=False)"
   ]
  },
  {
   "cell_type": "code",
   "execution_count": 23,
   "id": "4f809783-7c90-40cd-8b01-11b0eca67f69",
   "metadata": {},
   "outputs": [],
   "source": [
    "# Realizando a predicao\n",
    "y_pred = modelo_dummy.predict(X_test)"
   ]
  },
  {
   "cell_type": "code",
   "execution_count": 24,
   "id": "2c99f518-4e1b-4bce-8ca3-84bb22348e2e",
   "metadata": {},
   "outputs": [
    {
     "name": "stdout",
     "output_type": "stream",
     "text": [
      "R2: -0.0010\n",
      "MSE: 0.8861\n",
      "MSA: 0.7670\n",
      "Média CV: -0.002026\n",
      "Intervalo CV: [-0.4652, 0.0601]\n"
     ]
    }
   ],
   "source": [
    "# Métricas e resultados\n",
    "r2_score_dummy = r2_score(y_test, y_pred)\n",
    "MSE_dummy = mean_squared_error(y_test, y_pred)\n",
    "MSA_dummy = mean_absolute_error(y_test, y_pred)\n",
    "media_cv_dummy, intervalo_cv_dummy = cv_stats(resultado_cv)\n",
    "\n",
    "imprime_resultado(r2_score_dummy, MSE_dummy, MSA_dummy, media_cv_dummy, intervalo_cv_dummy)"
   ]
  },
  {
   "cell_type": "markdown",
   "id": "6557d144-4f32-43b0-9b89-5ff65485be8c",
   "metadata": {},
   "source": [
    "- Observacoes importantes:\n",
    "    - Para a métrica R2 (grau de ajuste das previsões aos dados reais), o valor ideal é 1 (modelo perfeito), e os piores modelos tem valores com valor 0 ou menor que 0 para o R2.\n",
    "    - Para a métrica MSE (Erro Quadrático Médio), mede a média dos erros quadráticos sobre a diferença entre os valores estimados e os valores reais. Quanto mais próximo de 0.0, melhor é o modelo, e quanto mais distante, pior (maior erro)."
   ]
  },
  {
   "cell_type": "code",
   "execution_count": 25,
   "id": "052ed8a6-fd6b-4b8e-b1e9-95abb22d7717",
   "metadata": {},
   "outputs": [],
   "source": [
    "resultados_modelos_dict[\"modelo\"].append(\"Dummy\")\n",
    "resultados_modelos_dict[\"R2\"].append(r2_score_dummy)\n",
    "resultados_modelos_dict[\"MSE\"].append(MSE_dummy)\n",
    "resultados_modelos_dict[\"MSA\"].append(MSA_dummy)\n",
    "resultados_modelos_dict[\"media_cv\"].append(media_cv_dummy)\n",
    "resultados_modelos_dict[\"intervalo_cv\"].append(f\"[{intervalo_cv_dummy[0]:.4f}, {intervalo_cv_dummy[1]:.4f}]\")"
   ]
  },
  {
   "cell_type": "code",
   "execution_count": 26,
   "id": "173be3c5-fcc6-4aae-af00-7753d7d602ed",
   "metadata": {},
   "outputs": [
    {
     "data": {
      "text/html": [
       "<div>\n",
       "<style scoped>\n",
       "    .dataframe tbody tr th:only-of-type {\n",
       "        vertical-align: middle;\n",
       "    }\n",
       "\n",
       "    .dataframe tbody tr th {\n",
       "        vertical-align: top;\n",
       "    }\n",
       "\n",
       "    .dataframe thead th {\n",
       "        text-align: right;\n",
       "    }\n",
       "</style>\n",
       "<table border=\"1\" class=\"dataframe\">\n",
       "  <thead>\n",
       "    <tr style=\"text-align: right;\">\n",
       "      <th></th>\n",
       "      <th>R2</th>\n",
       "      <th>MSE</th>\n",
       "      <th>MSA</th>\n",
       "      <th>media_cv</th>\n",
       "      <th>intervalo_cv</th>\n",
       "    </tr>\n",
       "    <tr>\n",
       "      <th>modelo</th>\n",
       "      <th></th>\n",
       "      <th></th>\n",
       "      <th></th>\n",
       "      <th></th>\n",
       "      <th></th>\n",
       "    </tr>\n",
       "  </thead>\n",
       "  <tbody>\n",
       "    <tr>\n",
       "      <th>Dummy</th>\n",
       "      <td>-0.001048</td>\n",
       "      <td>0.886094</td>\n",
       "      <td>0.767022</td>\n",
       "      <td>-0.002026</td>\n",
       "      <td>[-0.4652, 0.0601]</td>\n",
       "    </tr>\n",
       "  </tbody>\n",
       "</table>\n",
       "</div>"
      ],
      "text/plain": [
       "              R2       MSE       MSA  media_cv       intervalo_cv\n",
       "modelo                                                           \n",
       "Dummy  -0.001048  0.886094  0.767022 -0.002026  [-0.4652, 0.0601]"
      ]
     },
     "execution_count": 26,
     "metadata": {},
     "output_type": "execute_result"
    }
   ],
   "source": [
    "resultados_modelos_df = pd.DataFrame(resultados_modelos_dict).set_index(\"modelo\")\n",
    "resultados_modelos_df.head()"
   ]
  },
  {
   "cell_type": "markdown",
   "id": "8928f819-7d17-402a-bb58-455fd763fe86",
   "metadata": {},
   "source": [
    "#### b) Regressão Linear/ Polinomial\n",
    "- Para problemas de regressão, a solução mais clássica é o uso de regressão linear. Porém, nem sempre os dados apresentam comportamento linear.\n",
    "- Por conta disso, alguns modelos de regressão polinomal também serão avaliados (polinomial de 2ª a 4ª grau)."
   ]
  },
  {
   "cell_type": "code",
   "execution_count": 27,
   "id": "452b009c-8b03-4a17-8522-b15ad15459d6",
   "metadata": {},
   "outputs": [],
   "source": [
    "# Importando o modelo para regressão linear e polinomial\n",
    "from sklearn.linear_model import LinearRegression\n",
    "from sklearn.preprocessing import PolynomialFeatures"
   ]
  },
  {
   "cell_type": "code",
   "execution_count": 28,
   "id": "196da648-6c60-43a3-a5ff-24d3efba04a0",
   "metadata": {},
   "outputs": [
    {
     "name": "stdout",
     "output_type": "stream",
     "text": [
      "R2: -0.0010\n",
      "MSE: 0.8861\n",
      "MSA: 0.7670\n",
      "Média CV: 0.667432\n",
      "Intervalo CV: [61.7446, 71.7419]\n",
      "R2: -0.0010\n",
      "MSE: 0.8861\n",
      "MSA: 0.7670\n",
      "Média CV: 0.667432\n",
      "Intervalo CV: [61.7446, 71.7419]\n",
      "R2: -0.0010\n",
      "MSE: 0.8861\n",
      "MSA: 0.7670\n",
      "Média CV: 0.667432\n",
      "Intervalo CV: [61.7446, 71.7419]\n",
      "R2: -0.0010\n",
      "MSE: 0.8861\n",
      "MSA: 0.7670\n",
      "Média CV: 0.667432\n",
      "Intervalo CV: [61.7446, 71.7419]\n"
     ]
    }
   ],
   "source": [
    "for i in range(1, 5):\n",
    "    model_LR = LinearRegression()\n",
    "    \n",
    "    # Itera os graus dos polinômios, de 1ª a 5ª\n",
    "    poly = PolynomialFeatures(i)\n",
    "    \n",
    "    # Treinando o modelo corrente com os dados de treino\n",
    "    X_train_poly = poly.fit_transform(X_train)\n",
    "    X_test_poly = poly.fit_transform(X_test)\n",
    "    model_LR.fit(X_train_poly, y_train)\n",
    "    y_pred = model_LR.predict(X_test_poly)\n",
    "    \n",
    "    # Utilizando Cross Validate (cv)\n",
    "    cv = KFold(n_splits = 10, shuffle=True, random_state=42)\n",
    "    resultado_cv = cross_validate(model_LR, X, y, cv = cv, return_train_score=False)\n",
    "    \n",
    "    # Métricas e resultados\n",
    "    r2_score_lr = r2_score(y_test, y_pred)\n",
    "    MSE_lr = mean_squared_error(y_test, y_pred)\n",
    "    MSA_lr = mean_absolute_error(y_test, y_pred)\n",
    "    media_cv_lr, intervalo_cv_lr = cv_stats(resultado_cv)\n",
    "    imprime_resultado(r2_score_lr, MSE_lr, MSA_lr, media_cv_lr, intervalo_cv_lr)\n",
    "    \n",
    "    # Adicionando resultados para análises posteriores\n",
    "    resultados_modelos_dict[\"modelo\"].append(f\"Regressao grau {i}\")\n",
    "    resultados_modelos_dict[\"R2\"].append(r2_score_lr)\n",
    "    resultados_modelos_dict[\"MSE\"].append(MSE_lr)\n",
    "    resultados_modelos_dict[\"MSA\"].append(MSA_lr)\n",
    "    resultados_modelos_dict[\"media_cv\"].append(media_cv_lr)\n",
    "    resultados_modelos_dict[\"intervalo_cv\"].append(f\"[{intervalo_cv_lr[0]:.4f}, {intervalo_cv_lr[1]:.4f}]\")\n",
    "    resultados_modelos_df = pd.DataFrame(resultados_modelos_dict).set_index(\"modelo\")"
   ]
  },
  {
   "cell_type": "code",
   "execution_count": 29,
   "id": "c55447f9-3f50-482e-b6ab-e2793a5856b9",
   "metadata": {},
   "outputs": [
    {
     "data": {
      "text/html": [
       "<div>\n",
       "<style scoped>\n",
       "    .dataframe tbody tr th:only-of-type {\n",
       "        vertical-align: middle;\n",
       "    }\n",
       "\n",
       "    .dataframe tbody tr th {\n",
       "        vertical-align: top;\n",
       "    }\n",
       "\n",
       "    .dataframe thead th {\n",
       "        text-align: right;\n",
       "    }\n",
       "</style>\n",
       "<table border=\"1\" class=\"dataframe\">\n",
       "  <thead>\n",
       "    <tr style=\"text-align: right;\">\n",
       "      <th></th>\n",
       "      <th>R2</th>\n",
       "      <th>MSE</th>\n",
       "      <th>MSA</th>\n",
       "      <th>media_cv</th>\n",
       "      <th>intervalo_cv</th>\n",
       "    </tr>\n",
       "    <tr>\n",
       "      <th>modelo</th>\n",
       "      <th></th>\n",
       "      <th></th>\n",
       "      <th></th>\n",
       "      <th></th>\n",
       "      <th></th>\n",
       "    </tr>\n",
       "  </thead>\n",
       "  <tbody>\n",
       "    <tr>\n",
       "      <th>Dummy</th>\n",
       "      <td>-0.001048</td>\n",
       "      <td>0.886094</td>\n",
       "      <td>0.767022</td>\n",
       "      <td>-0.002026</td>\n",
       "      <td>[-0.4652, 0.0601]</td>\n",
       "    </tr>\n",
       "    <tr>\n",
       "      <th>Regressao grau 1</th>\n",
       "      <td>0.668827</td>\n",
       "      <td>0.293144</td>\n",
       "      <td>0.410012</td>\n",
       "      <td>0.667432</td>\n",
       "      <td>[61.7446, 71.7419]</td>\n",
       "    </tr>\n",
       "    <tr>\n",
       "      <th>Regressao grau 2</th>\n",
       "      <td>0.672947</td>\n",
       "      <td>0.289497</td>\n",
       "      <td>0.407328</td>\n",
       "      <td>0.667432</td>\n",
       "      <td>[61.7446, 71.7419]</td>\n",
       "    </tr>\n",
       "    <tr>\n",
       "      <th>Regressao grau 3</th>\n",
       "      <td>0.633021</td>\n",
       "      <td>0.324838</td>\n",
       "      <td>0.406381</td>\n",
       "      <td>0.667432</td>\n",
       "      <td>[61.7446, 71.7419]</td>\n",
       "    </tr>\n",
       "    <tr>\n",
       "      <th>Regressao grau 4</th>\n",
       "      <td>0.190064</td>\n",
       "      <td>0.716928</td>\n",
       "      <td>0.422995</td>\n",
       "      <td>0.667432</td>\n",
       "      <td>[61.7446, 71.7419]</td>\n",
       "    </tr>\n",
       "  </tbody>\n",
       "</table>\n",
       "</div>"
      ],
      "text/plain": [
       "                        R2       MSE       MSA  media_cv        intervalo_cv\n",
       "modelo                                                                      \n",
       "Dummy            -0.001048  0.886094  0.767022 -0.002026   [-0.4652, 0.0601]\n",
       "Regressao grau 1  0.668827  0.293144  0.410012  0.667432  [61.7446, 71.7419]\n",
       "Regressao grau 2  0.672947  0.289497  0.407328  0.667432  [61.7446, 71.7419]\n",
       "Regressao grau 3  0.633021  0.324838  0.406381  0.667432  [61.7446, 71.7419]\n",
       "Regressao grau 4  0.190064  0.716928  0.422995  0.667432  [61.7446, 71.7419]"
      ]
     },
     "execution_count": 29,
     "metadata": {},
     "output_type": "execute_result"
    }
   ],
   "source": [
    "resultados_modelos_df"
   ]
  },
  {
   "cell_type": "markdown",
   "id": "d6fb1777-a454-4844-9c70-5e53bd9f094a",
   "metadata": {},
   "source": [
    " - O modelo de regressao linear/ polinomial superou o baseline.\n",
    " - Outro fator importante é que a regressão polinomial de grau se destacou como a melhor taxa de ajuste aos dados (R²) e com o menor erro quadrático médio (MSE), embora com valores próximos ao da regressão linear (grau 1). "
   ]
  },
  {
   "cell_type": "markdown",
   "id": "208b8c3b-5b54-446b-b378-e1162a048074",
   "metadata": {},
   "source": [
    "#### c) Decision Tree Regressor: Árvore de Decisao\n",
    "- Para o modelo de regressão usando árvores de decisão, serão usadas 5 e 10 níveis (depth) para avaliar o desempenho dessa técnica."
   ]
  },
  {
   "cell_type": "code",
   "execution_count": 30,
   "id": "535d75b5-5bb2-4135-8754-07b00a702855",
   "metadata": {},
   "outputs": [],
   "source": [
    "from sklearn.tree import DecisionTreeRegressor"
   ]
  },
  {
   "cell_type": "code",
   "execution_count": 31,
   "id": "a4ed6580-9790-46ee-a5e9-a4fc7f79cf57",
   "metadata": {},
   "outputs": [
    {
     "name": "stdout",
     "output_type": "stream",
     "text": [
      "R2: -0.0010\n",
      "MSE: 0.8861\n",
      "MSA: 0.7670\n",
      "Média CV: 0.676848\n",
      "Intervalo CV: [64.1467, 71.2230]\n",
      "R2: -0.0010\n",
      "MSE: 0.8861\n",
      "MSA: 0.7670\n",
      "Média CV: 0.684414\n",
      "Intervalo CV: [62.7645, 74.1184]\n"
     ]
    }
   ],
   "source": [
    "for i in range(1, 3):\n",
    "    \n",
    "    # Treinando o modelo corrente com os dados de treino\n",
    "    modelo_dtr = DecisionTreeRegressor(random_state=42, max_depth = 5 * i)\n",
    "    modelo_dtr.fit(X_train, y_train)\n",
    "    y_pred = modelo_dtr.predict(X_test)\n",
    "        \n",
    "    # Utilizando Cross Validate (cv)\n",
    "    cv = KFold(n_splits = 10, shuffle=True, random_state=42)\n",
    "    resultado_cv = cross_validate(modelo_dtr, X, y, cv = cv, return_train_score=False)\n",
    "    \n",
    "    # Métricas e resultados\n",
    "    r2_score_dtr = r2_score(y_test, y_pred)\n",
    "    MSE_dtr = mean_squared_error(y_test, y_pred)\n",
    "    MSA_dtr = mean_absolute_error(y_test, y_pred)\n",
    "    media_cv_dtr, intervalo_cv_dtr = cv_stats(resultado_cv)\n",
    "    imprime_resultado(r2_score_dtr, MSE_dtr, MSA_dtr, media_cv_dtr, intervalo_cv_dtr)\n",
    "    \n",
    "    # Adicionando resultados para análises posteriores\n",
    "    resultados_modelos_dict[\"modelo\"].append(f\"Decision Tree (depth={5 * i})\")\n",
    "    resultados_modelos_dict[\"R2\"].append(r2_score_dtr)\n",
    "    resultados_modelos_dict[\"MSE\"].append(MSE_dtr)\n",
    "    resultados_modelos_dict[\"MSA\"].append(MSA_dtr)\n",
    "    resultados_modelos_dict[\"media_cv\"].append(media_cv_dtr)\n",
    "    resultados_modelos_dict[\"intervalo_cv\"].append(f\"[{intervalo_cv_dtr[0]:.4f}, {intervalo_cv_dtr[1]:.4f}]\")\n",
    "    resultados_modelos_df = pd.DataFrame(resultados_modelos_dict).set_index(\"modelo\")"
   ]
  },
  {
   "cell_type": "code",
   "execution_count": 32,
   "id": "07e32f50-2636-4e04-929f-1f32d96e34c4",
   "metadata": {},
   "outputs": [
    {
     "data": {
      "text/html": [
       "<div>\n",
       "<style scoped>\n",
       "    .dataframe tbody tr th:only-of-type {\n",
       "        vertical-align: middle;\n",
       "    }\n",
       "\n",
       "    .dataframe tbody tr th {\n",
       "        vertical-align: top;\n",
       "    }\n",
       "\n",
       "    .dataframe thead th {\n",
       "        text-align: right;\n",
       "    }\n",
       "</style>\n",
       "<table border=\"1\" class=\"dataframe\">\n",
       "  <thead>\n",
       "    <tr style=\"text-align: right;\">\n",
       "      <th></th>\n",
       "      <th>R2</th>\n",
       "      <th>MSE</th>\n",
       "      <th>MSA</th>\n",
       "      <th>media_cv</th>\n",
       "      <th>intervalo_cv</th>\n",
       "    </tr>\n",
       "    <tr>\n",
       "      <th>modelo</th>\n",
       "      <th></th>\n",
       "      <th></th>\n",
       "      <th></th>\n",
       "      <th></th>\n",
       "      <th></th>\n",
       "    </tr>\n",
       "  </thead>\n",
       "  <tbody>\n",
       "    <tr>\n",
       "      <th>Dummy</th>\n",
       "      <td>-0.001048</td>\n",
       "      <td>0.886094</td>\n",
       "      <td>0.767022</td>\n",
       "      <td>-0.002026</td>\n",
       "      <td>[-0.4652, 0.0601]</td>\n",
       "    </tr>\n",
       "    <tr>\n",
       "      <th>Regressao grau 1</th>\n",
       "      <td>0.668827</td>\n",
       "      <td>0.293144</td>\n",
       "      <td>0.410012</td>\n",
       "      <td>0.667432</td>\n",
       "      <td>[61.7446, 71.7419]</td>\n",
       "    </tr>\n",
       "    <tr>\n",
       "      <th>Regressao grau 2</th>\n",
       "      <td>0.672947</td>\n",
       "      <td>0.289497</td>\n",
       "      <td>0.407328</td>\n",
       "      <td>0.667432</td>\n",
       "      <td>[61.7446, 71.7419]</td>\n",
       "    </tr>\n",
       "    <tr>\n",
       "      <th>Regressao grau 3</th>\n",
       "      <td>0.633021</td>\n",
       "      <td>0.324838</td>\n",
       "      <td>0.406381</td>\n",
       "      <td>0.667432</td>\n",
       "      <td>[61.7446, 71.7419]</td>\n",
       "    </tr>\n",
       "    <tr>\n",
       "      <th>Regressao grau 4</th>\n",
       "      <td>0.190064</td>\n",
       "      <td>0.716928</td>\n",
       "      <td>0.422995</td>\n",
       "      <td>0.667432</td>\n",
       "      <td>[61.7446, 71.7419]</td>\n",
       "    </tr>\n",
       "    <tr>\n",
       "      <th>Decision Tree (depth=5)</th>\n",
       "      <td>0.688423</td>\n",
       "      <td>0.275797</td>\n",
       "      <td>0.409847</td>\n",
       "      <td>0.676848</td>\n",
       "      <td>[64.1467, 71.2230]</td>\n",
       "    </tr>\n",
       "    <tr>\n",
       "      <th>Decision Tree (depth=10)</th>\n",
       "      <td>0.684988</td>\n",
       "      <td>0.278838</td>\n",
       "      <td>0.399057</td>\n",
       "      <td>0.684414</td>\n",
       "      <td>[62.7645, 74.1184]</td>\n",
       "    </tr>\n",
       "  </tbody>\n",
       "</table>\n",
       "</div>"
      ],
      "text/plain": [
       "                                R2       MSE       MSA  media_cv  \\\n",
       "modelo                                                             \n",
       "Dummy                    -0.001048  0.886094  0.767022 -0.002026   \n",
       "Regressao grau 1          0.668827  0.293144  0.410012  0.667432   \n",
       "Regressao grau 2          0.672947  0.289497  0.407328  0.667432   \n",
       "Regressao grau 3          0.633021  0.324838  0.406381  0.667432   \n",
       "Regressao grau 4          0.190064  0.716928  0.422995  0.667432   \n",
       "Decision Tree (depth=5)   0.688423  0.275797  0.409847  0.676848   \n",
       "Decision Tree (depth=10)  0.684988  0.278838  0.399057  0.684414   \n",
       "\n",
       "                                intervalo_cv  \n",
       "modelo                                        \n",
       "Dummy                      [-0.4652, 0.0601]  \n",
       "Regressao grau 1          [61.7446, 71.7419]  \n",
       "Regressao grau 2          [61.7446, 71.7419]  \n",
       "Regressao grau 3          [61.7446, 71.7419]  \n",
       "Regressao grau 4          [61.7446, 71.7419]  \n",
       "Decision Tree (depth=5)   [64.1467, 71.2230]  \n",
       "Decision Tree (depth=10)  [62.7645, 74.1184]  "
      ]
     },
     "execution_count": 32,
     "metadata": {},
     "output_type": "execute_result"
    }
   ],
   "source": [
    "resultados_modelos_df"
   ]
  },
  {
   "cell_type": "markdown",
   "id": "06103be0-4e94-41d9-b120-d8968341d8a8",
   "metadata": {},
   "source": [
    "#### d) Random Forest Regressor: Floresta Aleatória\n",
    "- Para o modelo de Regressão baseado em Floresta Aleatória, serão utilizados 100 estimadores por padrão e o nível máximo de cada árvore será 5, 10, 15 e 20."
   ]
  },
  {
   "cell_type": "code",
   "execution_count": 33,
   "id": "8901eb00-c1fb-414c-b9bf-f77bc50a0dbc",
   "metadata": {},
   "outputs": [],
   "source": [
    "from sklearn.ensemble import RandomForestRegressor"
   ]
  },
  {
   "cell_type": "code",
   "execution_count": 34,
   "id": "f6efba29-d1e5-456e-bc2b-272894dde2b0",
   "metadata": {},
   "outputs": [
    {
     "name": "stdout",
     "output_type": "stream",
     "text": [
      "R2: -0.0010\n",
      "MSE: 0.8861\n",
      "MSA: 0.7670\n",
      "Média CV: 0.689551\n",
      "Intervalo CV: [64.8861, 73.0241]\n",
      "R2: -0.0010\n",
      "MSE: 0.8861\n",
      "MSA: 0.7670\n",
      "Média CV: 0.729265\n",
      "Intervalo CV: [68.8328, 77.0202]\n",
      "R2: -0.0010\n",
      "MSE: 0.8861\n",
      "MSA: 0.7670\n",
      "Média CV: 0.754516\n",
      "Intervalo CV: [70.8857, 80.0175]\n",
      "R2: -0.0010\n",
      "MSE: 0.8861\n",
      "MSA: 0.7670\n",
      "Média CV: 0.753305\n",
      "Intervalo CV: [70.4168, 80.2442]\n"
     ]
    }
   ],
   "source": [
    "for i in range(1, 5):\n",
    "    \n",
    "    # Treinando o modelo corrente com os dados de treino\n",
    "    modelo_rfr = RandomForestRegressor(n_estimators=100, max_depth=5 * i, random_state=42)\n",
    "    modelo_rfr.fit(X_train, y_train)\n",
    "    y_pred = modelo_rfr.predict(X_test)\n",
    "    \n",
    "    # Utilizando Cross Validate (cv)\n",
    "    cv = KFold(n_splits = 10, shuffle=True, random_state=42)\n",
    "    resultado_cv = cross_validate(modelo_rfr, X, y, cv = cv, return_train_score=False)\n",
    "    \n",
    "    \n",
    "    # Métricas e resultados\n",
    "    r2_score_rfr = r2_score(y_test, y_pred)\n",
    "    MSE_rfr = mean_squared_error(y_test, y_pred)\n",
    "    MSA_rfr = mean_absolute_error(y_test, y_pred)\n",
    "    media_cv_rfr, intervalo_cv_rfr = cv_stats(resultado_cv)\n",
    "    imprime_resultado(r2_score_rfr, MSE_rfr, MSA_rfr, media_cv_rfr, intervalo_cv_rfr)\n",
    "    \n",
    "    # Adicionando resultados para análises posteriores\n",
    "    resultados_modelos_dict[\"modelo\"].append(f\"Random Forest (depth={5 * i}, n_estimators=100)\")\n",
    "    resultados_modelos_dict[\"R2\"].append(r2_score_rfr)\n",
    "    resultados_modelos_dict[\"MSE\"].append(MSE_rfr)\n",
    "    resultados_modelos_dict[\"MSA\"].append(MSA_rfr)\n",
    "    resultados_modelos_dict[\"media_cv\"].append(media_cv_rfr)\n",
    "    resultados_modelos_dict[\"intervalo_cv\"].append(f\"[{intervalo_cv_rfr[0]:.4f}, {intervalo_cv_rfr[1]:.4f}]\")\n",
    "    resultados_modelos_df = pd.DataFrame(resultados_modelos_dict).set_index(\"modelo\")"
   ]
  },
  {
   "cell_type": "code",
   "execution_count": 35,
   "id": "e41fbcf0-dc8c-4544-b3ac-b29a9241f4f3",
   "metadata": {},
   "outputs": [
    {
     "data": {
      "text/html": [
       "<div>\n",
       "<style scoped>\n",
       "    .dataframe tbody tr th:only-of-type {\n",
       "        vertical-align: middle;\n",
       "    }\n",
       "\n",
       "    .dataframe tbody tr th {\n",
       "        vertical-align: top;\n",
       "    }\n",
       "\n",
       "    .dataframe thead th {\n",
       "        text-align: right;\n",
       "    }\n",
       "</style>\n",
       "<table border=\"1\" class=\"dataframe\">\n",
       "  <thead>\n",
       "    <tr style=\"text-align: right;\">\n",
       "      <th></th>\n",
       "      <th>R2</th>\n",
       "      <th>MSE</th>\n",
       "      <th>MSA</th>\n",
       "      <th>media_cv</th>\n",
       "      <th>intervalo_cv</th>\n",
       "    </tr>\n",
       "    <tr>\n",
       "      <th>modelo</th>\n",
       "      <th></th>\n",
       "      <th></th>\n",
       "      <th></th>\n",
       "      <th></th>\n",
       "      <th></th>\n",
       "    </tr>\n",
       "  </thead>\n",
       "  <tbody>\n",
       "    <tr>\n",
       "      <th>Dummy</th>\n",
       "      <td>-0.001048</td>\n",
       "      <td>0.886094</td>\n",
       "      <td>0.767022</td>\n",
       "      <td>-0.002026</td>\n",
       "      <td>[-0.4652, 0.0601]</td>\n",
       "    </tr>\n",
       "    <tr>\n",
       "      <th>Regressao grau 1</th>\n",
       "      <td>0.668827</td>\n",
       "      <td>0.293144</td>\n",
       "      <td>0.410012</td>\n",
       "      <td>0.667432</td>\n",
       "      <td>[61.7446, 71.7419]</td>\n",
       "    </tr>\n",
       "    <tr>\n",
       "      <th>Regressao grau 2</th>\n",
       "      <td>0.672947</td>\n",
       "      <td>0.289497</td>\n",
       "      <td>0.407328</td>\n",
       "      <td>0.667432</td>\n",
       "      <td>[61.7446, 71.7419]</td>\n",
       "    </tr>\n",
       "    <tr>\n",
       "      <th>Regressao grau 3</th>\n",
       "      <td>0.633021</td>\n",
       "      <td>0.324838</td>\n",
       "      <td>0.406381</td>\n",
       "      <td>0.667432</td>\n",
       "      <td>[61.7446, 71.7419]</td>\n",
       "    </tr>\n",
       "    <tr>\n",
       "      <th>Regressao grau 4</th>\n",
       "      <td>0.190064</td>\n",
       "      <td>0.716928</td>\n",
       "      <td>0.422995</td>\n",
       "      <td>0.667432</td>\n",
       "      <td>[61.7446, 71.7419]</td>\n",
       "    </tr>\n",
       "    <tr>\n",
       "      <th>Decision Tree (depth=5)</th>\n",
       "      <td>0.688423</td>\n",
       "      <td>0.275797</td>\n",
       "      <td>0.409847</td>\n",
       "      <td>0.676848</td>\n",
       "      <td>[64.1467, 71.2230]</td>\n",
       "    </tr>\n",
       "    <tr>\n",
       "      <th>Decision Tree (depth=10)</th>\n",
       "      <td>0.684988</td>\n",
       "      <td>0.278838</td>\n",
       "      <td>0.399057</td>\n",
       "      <td>0.684414</td>\n",
       "      <td>[62.7645, 74.1184]</td>\n",
       "    </tr>\n",
       "    <tr>\n",
       "      <th>Random Forest (depth=5, n_estimators=100)</th>\n",
       "      <td>0.705993</td>\n",
       "      <td>0.260245</td>\n",
       "      <td>0.399486</td>\n",
       "      <td>0.689551</td>\n",
       "      <td>[64.8861, 73.0241]</td>\n",
       "    </tr>\n",
       "    <tr>\n",
       "      <th>Random Forest (depth=10, n_estimators=100)</th>\n",
       "      <td>0.739192</td>\n",
       "      <td>0.230858</td>\n",
       "      <td>0.374197</td>\n",
       "      <td>0.729265</td>\n",
       "      <td>[68.8328, 77.0202]</td>\n",
       "    </tr>\n",
       "    <tr>\n",
       "      <th>Random Forest (depth=15, n_estimators=100)</th>\n",
       "      <td>0.751706</td>\n",
       "      <td>0.219781</td>\n",
       "      <td>0.352551</td>\n",
       "      <td>0.754516</td>\n",
       "      <td>[70.8857, 80.0175]</td>\n",
       "    </tr>\n",
       "    <tr>\n",
       "      <th>Random Forest (depth=20, n_estimators=100)</th>\n",
       "      <td>0.746360</td>\n",
       "      <td>0.224514</td>\n",
       "      <td>0.346492</td>\n",
       "      <td>0.753305</td>\n",
       "      <td>[70.4168, 80.2442]</td>\n",
       "    </tr>\n",
       "  </tbody>\n",
       "</table>\n",
       "</div>"
      ],
      "text/plain": [
       "                                                  R2       MSE       MSA  \\\n",
       "modelo                                                                     \n",
       "Dummy                                      -0.001048  0.886094  0.767022   \n",
       "Regressao grau 1                            0.668827  0.293144  0.410012   \n",
       "Regressao grau 2                            0.672947  0.289497  0.407328   \n",
       "Regressao grau 3                            0.633021  0.324838  0.406381   \n",
       "Regressao grau 4                            0.190064  0.716928  0.422995   \n",
       "Decision Tree (depth=5)                     0.688423  0.275797  0.409847   \n",
       "Decision Tree (depth=10)                    0.684988  0.278838  0.399057   \n",
       "Random Forest (depth=5, n_estimators=100)   0.705993  0.260245  0.399486   \n",
       "Random Forest (depth=10, n_estimators=100)  0.739192  0.230858  0.374197   \n",
       "Random Forest (depth=15, n_estimators=100)  0.751706  0.219781  0.352551   \n",
       "Random Forest (depth=20, n_estimators=100)  0.746360  0.224514  0.346492   \n",
       "\n",
       "                                            media_cv        intervalo_cv  \n",
       "modelo                                                                    \n",
       "Dummy                                      -0.002026   [-0.4652, 0.0601]  \n",
       "Regressao grau 1                            0.667432  [61.7446, 71.7419]  \n",
       "Regressao grau 2                            0.667432  [61.7446, 71.7419]  \n",
       "Regressao grau 3                            0.667432  [61.7446, 71.7419]  \n",
       "Regressao grau 4                            0.667432  [61.7446, 71.7419]  \n",
       "Decision Tree (depth=5)                     0.676848  [64.1467, 71.2230]  \n",
       "Decision Tree (depth=10)                    0.684414  [62.7645, 74.1184]  \n",
       "Random Forest (depth=5, n_estimators=100)   0.689551  [64.8861, 73.0241]  \n",
       "Random Forest (depth=10, n_estimators=100)  0.729265  [68.8328, 77.0202]  \n",
       "Random Forest (depth=15, n_estimators=100)  0.754516  [70.8857, 80.0175]  \n",
       "Random Forest (depth=20, n_estimators=100)  0.753305  [70.4168, 80.2442]  "
      ]
     },
     "execution_count": 35,
     "metadata": {},
     "output_type": "execute_result"
    }
   ],
   "source": [
    "resultados_modelos_df"
   ]
  },
  {
   "cell_type": "markdown",
   "id": "6d605ba7-2e2a-4553-9515-d4d7226e1fc0",
   "metadata": {},
   "source": [
    " - Pelo que pode-se notar da tabela com os resultados dos desempenhos de cada modelo, o modelo de Random Forest com 15 de profundidade e 100 estimadores é o mais preciso, uma vez que ela atingiu o maior R2, o menor MSE, o segundo menor MSA, a melhor e intervalo mais consistente de validação cruzada.\n",
    " - Vale ressaltar que o desempenho médio do modelo de floresta aleatória superou os demais modelos.\n",
    " - O modelo \"Random Forest\" será o escolhido para a otimização com hiperparâmetros! "
   ]
  },
  {
   "cell_type": "markdown",
   "id": "dae6e169-75f5-4512-bf9b-b9402a07beae",
   "metadata": {},
   "source": [
    "### 5.5 - Otimizando o modelo de Random Forest com hiperparâmetros"
   ]
  },
  {
   "cell_type": "code",
   "execution_count": 124,
   "id": "029120c1-a31e-48d7-8fac-21701b95c388",
   "metadata": {},
   "outputs": [],
   "source": [
    "from sklearn.model_selection import KFold\n",
    "from sklearn.model_selection import cross_val_score \n",
    "from sklearn.model_selection import RandomizedSearchCV"
   ]
  },
  {
   "cell_type": "code",
   "execution_count": 125,
   "id": "90c09b70-9f0c-4b54-a60f-58a726071196",
   "metadata": {},
   "outputs": [],
   "source": [
    "#definindo o K - número de subconjuntos\n",
    "cv = KFold(n_splits = 5, shuffle=True)"
   ]
  },
  {
   "cell_type": "code",
   "execution_count": 126,
   "id": "2808d736-1132-4f67-825c-92a1d827e8ca",
   "metadata": {},
   "outputs": [
    {
     "name": "stdout",
     "output_type": "stream",
     "text": [
      "Desempenho médio de r2: 0.714\n"
     ]
    }
   ],
   "source": [
    "desempenhoRF_cross_val_r2 = cross_val_score(estimator = modelo_rfr,\n",
    "                                       X = X_train, \n",
    "                                       y = y_train,\n",
    "                                       scoring = 'r2',\n",
    "                                       cv = cv)\n",
    "print('Desempenho médio de r2: {}'.format(round(desempenhoRF_cross_val_r2.mean(), 3)))"
   ]
  },
  {
   "cell_type": "code",
   "execution_count": 127,
   "id": "186827c6-af40-4889-83fd-7818d9e750c0",
   "metadata": {},
   "outputs": [],
   "source": [
    "param_random_rf = {\n",
    "    'criterion': [\"squared_error\", \"absolute_error\", \"poisson\"],\n",
    "    'n_estimators': [25, 50, 75, 100],\n",
    "    'max_depth': [15, 17, 19, 20],\n",
    "    'min_samples_split': [1, 3, 5, 7, 9, 11],\n",
    "    'min_samples_leaf': [1, 5, 10, 15, 20]\n",
    "}"
   ]
  },
  {
   "cell_type": "code",
   "execution_count": 128,
   "id": "7dacb851-4090-44b8-ac59-9a28c052bfa3",
   "metadata": {},
   "outputs": [],
   "source": [
    "random_cv_rf = RandomizedSearchCV(\n",
    "    modelo_rfr, \n",
    "    param_random_rf, \n",
    "    n_iter=100, \n",
    "    cv=cv, \n",
    "    scoring='r2',\n",
    "    n_jobs=-1,\n",
    "    random_state = 42\n",
    ")"
   ]
  },
  {
   "cell_type": "code",
   "execution_count": 129,
   "id": "2f7d1629-8b4b-44f3-9791-0aeaab697e20",
   "metadata": {},
   "outputs": [],
   "source": [
    "rf_randomcv = random_cv_rf.fit(X_train, y_train)"
   ]
  },
  {
   "cell_type": "code",
   "execution_count": 130,
   "id": "bb86d14f-022e-461e-9f0c-f2590a24421d",
   "metadata": {},
   "outputs": [
    {
     "data": {
      "text/html": [
       "<div>\n",
       "<style scoped>\n",
       "    .dataframe tbody tr th:only-of-type {\n",
       "        vertical-align: middle;\n",
       "    }\n",
       "\n",
       "    .dataframe tbody tr th {\n",
       "        vertical-align: top;\n",
       "    }\n",
       "\n",
       "    .dataframe thead th {\n",
       "        text-align: right;\n",
       "    }\n",
       "</style>\n",
       "<table border=\"1\" class=\"dataframe\">\n",
       "  <thead>\n",
       "    <tr style=\"text-align: right;\">\n",
       "      <th></th>\n",
       "      <th>mean_fit_time</th>\n",
       "      <th>std_fit_time</th>\n",
       "      <th>mean_score_time</th>\n",
       "      <th>std_score_time</th>\n",
       "      <th>param_n_estimators</th>\n",
       "      <th>param_min_samples_split</th>\n",
       "      <th>param_min_samples_leaf</th>\n",
       "      <th>param_max_depth</th>\n",
       "      <th>param_criterion</th>\n",
       "      <th>params</th>\n",
       "      <th>split0_test_score</th>\n",
       "      <th>split1_test_score</th>\n",
       "      <th>split2_test_score</th>\n",
       "      <th>split3_test_score</th>\n",
       "      <th>split4_test_score</th>\n",
       "      <th>mean_test_score</th>\n",
       "      <th>std_test_score</th>\n",
       "      <th>rank_test_score</th>\n",
       "    </tr>\n",
       "  </thead>\n",
       "  <tbody>\n",
       "    <tr>\n",
       "      <th>0</th>\n",
       "      <td>0.043493</td>\n",
       "      <td>0.002985</td>\n",
       "      <td>0.000000</td>\n",
       "      <td>0.000000</td>\n",
       "      <td>25</td>\n",
       "      <td>1</td>\n",
       "      <td>10</td>\n",
       "      <td>17</td>\n",
       "      <td>squared_error</td>\n",
       "      <td>{'n_estimators': 25, 'min_samples_split': 1, '...</td>\n",
       "      <td>NaN</td>\n",
       "      <td>NaN</td>\n",
       "      <td>NaN</td>\n",
       "      <td>NaN</td>\n",
       "      <td>NaN</td>\n",
       "      <td>NaN</td>\n",
       "      <td>NaN</td>\n",
       "      <td>100</td>\n",
       "    </tr>\n",
       "    <tr>\n",
       "      <th>1</th>\n",
       "      <td>38.411541</td>\n",
       "      <td>0.372252</td>\n",
       "      <td>0.054944</td>\n",
       "      <td>0.007893</td>\n",
       "      <td>50</td>\n",
       "      <td>3</td>\n",
       "      <td>1</td>\n",
       "      <td>17</td>\n",
       "      <td>absolute_error</td>\n",
       "      <td>{'n_estimators': 50, 'min_samples_split': 3, '...</td>\n",
       "      <td>0.667410</td>\n",
       "      <td>0.734960</td>\n",
       "      <td>0.725862</td>\n",
       "      <td>0.708837</td>\n",
       "      <td>0.734589</td>\n",
       "      <td>0.714332</td>\n",
       "      <td>0.025301</td>\n",
       "      <td>2</td>\n",
       "    </tr>\n",
       "    <tr>\n",
       "      <th>2</th>\n",
       "      <td>16.707454</td>\n",
       "      <td>0.281759</td>\n",
       "      <td>0.021905</td>\n",
       "      <td>0.002810</td>\n",
       "      <td>25</td>\n",
       "      <td>11</td>\n",
       "      <td>10</td>\n",
       "      <td>15</td>\n",
       "      <td>absolute_error</td>\n",
       "      <td>{'n_estimators': 25, 'min_samples_split': 11, ...</td>\n",
       "      <td>0.642046</td>\n",
       "      <td>0.709425</td>\n",
       "      <td>0.696773</td>\n",
       "      <td>0.675052</td>\n",
       "      <td>0.704227</td>\n",
       "      <td>0.685505</td>\n",
       "      <td>0.024688</td>\n",
       "      <td>50</td>\n",
       "    </tr>\n",
       "    <tr>\n",
       "      <th>3</th>\n",
       "      <td>0.808387</td>\n",
       "      <td>0.007672</td>\n",
       "      <td>0.038603</td>\n",
       "      <td>0.001897</td>\n",
       "      <td>50</td>\n",
       "      <td>9</td>\n",
       "      <td>10</td>\n",
       "      <td>15</td>\n",
       "      <td>squared_error</td>\n",
       "      <td>{'n_estimators': 50, 'min_samples_split': 9, '...</td>\n",
       "      <td>0.652380</td>\n",
       "      <td>0.712975</td>\n",
       "      <td>0.706173</td>\n",
       "      <td>0.688720</td>\n",
       "      <td>0.712884</td>\n",
       "      <td>0.694626</td>\n",
       "      <td>0.022904</td>\n",
       "      <td>24</td>\n",
       "    </tr>\n",
       "    <tr>\n",
       "      <th>4</th>\n",
       "      <td>17.278913</td>\n",
       "      <td>0.235417</td>\n",
       "      <td>0.022864</td>\n",
       "      <td>0.004378</td>\n",
       "      <td>25</td>\n",
       "      <td>3</td>\n",
       "      <td>5</td>\n",
       "      <td>17</td>\n",
       "      <td>absolute_error</td>\n",
       "      <td>{'n_estimators': 25, 'min_samples_split': 3, '...</td>\n",
       "      <td>0.648930</td>\n",
       "      <td>0.714027</td>\n",
       "      <td>0.706326</td>\n",
       "      <td>0.683911</td>\n",
       "      <td>0.706579</td>\n",
       "      <td>0.691955</td>\n",
       "      <td>0.023763</td>\n",
       "      <td>30</td>\n",
       "    </tr>\n",
       "    <tr>\n",
       "      <th>...</th>\n",
       "      <td>...</td>\n",
       "      <td>...</td>\n",
       "      <td>...</td>\n",
       "      <td>...</td>\n",
       "      <td>...</td>\n",
       "      <td>...</td>\n",
       "      <td>...</td>\n",
       "      <td>...</td>\n",
       "      <td>...</td>\n",
       "      <td>...</td>\n",
       "      <td>...</td>\n",
       "      <td>...</td>\n",
       "      <td>...</td>\n",
       "      <td>...</td>\n",
       "      <td>...</td>\n",
       "      <td>...</td>\n",
       "      <td>...</td>\n",
       "      <td>...</td>\n",
       "    </tr>\n",
       "    <tr>\n",
       "      <th>95</th>\n",
       "      <td>0.114557</td>\n",
       "      <td>0.010070</td>\n",
       "      <td>0.000000</td>\n",
       "      <td>0.000000</td>\n",
       "      <td>100</td>\n",
       "      <td>1</td>\n",
       "      <td>10</td>\n",
       "      <td>20</td>\n",
       "      <td>squared_error</td>\n",
       "      <td>{'n_estimators': 100, 'min_samples_split': 1, ...</td>\n",
       "      <td>NaN</td>\n",
       "      <td>NaN</td>\n",
       "      <td>NaN</td>\n",
       "      <td>NaN</td>\n",
       "      <td>NaN</td>\n",
       "      <td>NaN</td>\n",
       "      <td>NaN</td>\n",
       "      <td>86</td>\n",
       "    </tr>\n",
       "    <tr>\n",
       "      <th>96</th>\n",
       "      <td>0.719981</td>\n",
       "      <td>0.042447</td>\n",
       "      <td>0.036128</td>\n",
       "      <td>0.003474</td>\n",
       "      <td>50</td>\n",
       "      <td>3</td>\n",
       "      <td>10</td>\n",
       "      <td>20</td>\n",
       "      <td>squared_error</td>\n",
       "      <td>{'n_estimators': 50, 'min_samples_split': 3, '...</td>\n",
       "      <td>0.652378</td>\n",
       "      <td>0.712936</td>\n",
       "      <td>0.706189</td>\n",
       "      <td>0.688704</td>\n",
       "      <td>0.712847</td>\n",
       "      <td>0.694611</td>\n",
       "      <td>0.022895</td>\n",
       "      <td>26</td>\n",
       "    </tr>\n",
       "    <tr>\n",
       "      <th>97</th>\n",
       "      <td>1.521897</td>\n",
       "      <td>0.086100</td>\n",
       "      <td>0.032090</td>\n",
       "      <td>0.007564</td>\n",
       "      <td>50</td>\n",
       "      <td>9</td>\n",
       "      <td>1</td>\n",
       "      <td>19</td>\n",
       "      <td>poisson</td>\n",
       "      <td>{'n_estimators': 50, 'min_samples_split': 9, '...</td>\n",
       "      <td>0.328706</td>\n",
       "      <td>0.419161</td>\n",
       "      <td>0.456549</td>\n",
       "      <td>0.401927</td>\n",
       "      <td>0.331177</td>\n",
       "      <td>0.387504</td>\n",
       "      <td>0.050214</td>\n",
       "      <td>80</td>\n",
       "    </tr>\n",
       "    <tr>\n",
       "      <th>98</th>\n",
       "      <td>0.033764</td>\n",
       "      <td>0.005513</td>\n",
       "      <td>0.000000</td>\n",
       "      <td>0.000000</td>\n",
       "      <td>25</td>\n",
       "      <td>1</td>\n",
       "      <td>15</td>\n",
       "      <td>15</td>\n",
       "      <td>poisson</td>\n",
       "      <td>{'n_estimators': 25, 'min_samples_split': 1, '...</td>\n",
       "      <td>NaN</td>\n",
       "      <td>NaN</td>\n",
       "      <td>NaN</td>\n",
       "      <td>NaN</td>\n",
       "      <td>NaN</td>\n",
       "      <td>NaN</td>\n",
       "      <td>NaN</td>\n",
       "      <td>95</td>\n",
       "    </tr>\n",
       "    <tr>\n",
       "      <th>99</th>\n",
       "      <td>1.423578</td>\n",
       "      <td>0.125746</td>\n",
       "      <td>0.074476</td>\n",
       "      <td>0.002964</td>\n",
       "      <td>100</td>\n",
       "      <td>3</td>\n",
       "      <td>10</td>\n",
       "      <td>17</td>\n",
       "      <td>squared_error</td>\n",
       "      <td>{'n_estimators': 100, 'min_samples_split': 3, ...</td>\n",
       "      <td>0.654022</td>\n",
       "      <td>0.714555</td>\n",
       "      <td>0.705414</td>\n",
       "      <td>0.687976</td>\n",
       "      <td>0.713572</td>\n",
       "      <td>0.695108</td>\n",
       "      <td>0.022646</td>\n",
       "      <td>15</td>\n",
       "    </tr>\n",
       "  </tbody>\n",
       "</table>\n",
       "<p>100 rows × 18 columns</p>\n",
       "</div>"
      ],
      "text/plain": [
       "    mean_fit_time  std_fit_time  mean_score_time  std_score_time  \\\n",
       "0        0.043493      0.002985         0.000000        0.000000   \n",
       "1       38.411541      0.372252         0.054944        0.007893   \n",
       "2       16.707454      0.281759         0.021905        0.002810   \n",
       "3        0.808387      0.007672         0.038603        0.001897   \n",
       "4       17.278913      0.235417         0.022864        0.004378   \n",
       "..            ...           ...              ...             ...   \n",
       "95       0.114557      0.010070         0.000000        0.000000   \n",
       "96       0.719981      0.042447         0.036128        0.003474   \n",
       "97       1.521897      0.086100         0.032090        0.007564   \n",
       "98       0.033764      0.005513         0.000000        0.000000   \n",
       "99       1.423578      0.125746         0.074476        0.002964   \n",
       "\n",
       "   param_n_estimators param_min_samples_split param_min_samples_leaf  \\\n",
       "0                  25                       1                     10   \n",
       "1                  50                       3                      1   \n",
       "2                  25                      11                     10   \n",
       "3                  50                       9                     10   \n",
       "4                  25                       3                      5   \n",
       "..                ...                     ...                    ...   \n",
       "95                100                       1                     10   \n",
       "96                 50                       3                     10   \n",
       "97                 50                       9                      1   \n",
       "98                 25                       1                     15   \n",
       "99                100                       3                     10   \n",
       "\n",
       "   param_max_depth param_criterion  \\\n",
       "0               17   squared_error   \n",
       "1               17  absolute_error   \n",
       "2               15  absolute_error   \n",
       "3               15   squared_error   \n",
       "4               17  absolute_error   \n",
       "..             ...             ...   \n",
       "95              20   squared_error   \n",
       "96              20   squared_error   \n",
       "97              19         poisson   \n",
       "98              15         poisson   \n",
       "99              17   squared_error   \n",
       "\n",
       "                                               params  split0_test_score  \\\n",
       "0   {'n_estimators': 25, 'min_samples_split': 1, '...                NaN   \n",
       "1   {'n_estimators': 50, 'min_samples_split': 3, '...           0.667410   \n",
       "2   {'n_estimators': 25, 'min_samples_split': 11, ...           0.642046   \n",
       "3   {'n_estimators': 50, 'min_samples_split': 9, '...           0.652380   \n",
       "4   {'n_estimators': 25, 'min_samples_split': 3, '...           0.648930   \n",
       "..                                                ...                ...   \n",
       "95  {'n_estimators': 100, 'min_samples_split': 1, ...                NaN   \n",
       "96  {'n_estimators': 50, 'min_samples_split': 3, '...           0.652378   \n",
       "97  {'n_estimators': 50, 'min_samples_split': 9, '...           0.328706   \n",
       "98  {'n_estimators': 25, 'min_samples_split': 1, '...                NaN   \n",
       "99  {'n_estimators': 100, 'min_samples_split': 3, ...           0.654022   \n",
       "\n",
       "    split1_test_score  split2_test_score  split3_test_score  \\\n",
       "0                 NaN                NaN                NaN   \n",
       "1            0.734960           0.725862           0.708837   \n",
       "2            0.709425           0.696773           0.675052   \n",
       "3            0.712975           0.706173           0.688720   \n",
       "4            0.714027           0.706326           0.683911   \n",
       "..                ...                ...                ...   \n",
       "95                NaN                NaN                NaN   \n",
       "96           0.712936           0.706189           0.688704   \n",
       "97           0.419161           0.456549           0.401927   \n",
       "98                NaN                NaN                NaN   \n",
       "99           0.714555           0.705414           0.687976   \n",
       "\n",
       "    split4_test_score  mean_test_score  std_test_score  rank_test_score  \n",
       "0                 NaN              NaN             NaN              100  \n",
       "1            0.734589         0.714332        0.025301                2  \n",
       "2            0.704227         0.685505        0.024688               50  \n",
       "3            0.712884         0.694626        0.022904               24  \n",
       "4            0.706579         0.691955        0.023763               30  \n",
       "..                ...              ...             ...              ...  \n",
       "95                NaN              NaN             NaN               86  \n",
       "96           0.712847         0.694611        0.022895               26  \n",
       "97           0.331177         0.387504        0.050214               80  \n",
       "98                NaN              NaN             NaN               95  \n",
       "99           0.713572         0.695108        0.022646               15  \n",
       "\n",
       "[100 rows x 18 columns]"
      ]
     },
     "execution_count": 130,
     "metadata": {},
     "output_type": "execute_result"
    }
   ],
   "source": [
    "pd.DataFrame(rf_randomcv.cv_results_)"
   ]
  },
  {
   "cell_type": "code",
   "execution_count": 131,
   "id": "50261bd9-021b-447a-9b52-97b2353e4b79",
   "metadata": {},
   "outputs": [
    {
     "data": {
      "text/plain": [
       "{'n_estimators': 100,\n",
       " 'min_samples_split': 3,\n",
       " 'min_samples_leaf': 1,\n",
       " 'max_depth': 20,\n",
       " 'criterion': 'absolute_error'}"
      ]
     },
     "execution_count": 131,
     "metadata": {},
     "output_type": "execute_result"
    }
   ],
   "source": [
    "rf_randomcv.best_params_"
   ]
  },
  {
   "cell_type": "code",
   "execution_count": 132,
   "id": "2c4adde8-3acd-430e-9013-b2aa6c859ed7",
   "metadata": {},
   "outputs": [
    {
     "data": {
      "text/plain": [
       "0.7143355139948764"
      ]
     },
     "execution_count": 132,
     "metadata": {},
     "output_type": "execute_result"
    }
   ],
   "source": [
    "rf_randomcv.best_score_"
   ]
  },
  {
   "cell_type": "markdown",
   "id": "581acc68-94ef-4270-a6fb-818ff43f04b9",
   "metadata": {},
   "source": [
    "#### Modelo com os parâmetros otimizados"
   ]
  },
  {
   "cell_type": "code",
   "execution_count": 133,
   "id": "019636e9-997f-4b84-a54c-f6cefcc70a47",
   "metadata": {},
   "outputs": [],
   "source": [
    "rf_otimizado2 = RandomForestRegressor(random_state=42,\n",
    "                                      n_estimators=100,\n",
    "                                     min_samples_split= 3,\n",
    "                                     min_samples_leaf=1,\n",
    "                                     max_depth = 20,\n",
    "                                     criterion = 'absolute_error')"
   ]
  },
  {
   "cell_type": "code",
   "execution_count": 134,
   "id": "c14b188a-1b70-46d7-9188-9d69bb5a7eec",
   "metadata": {},
   "outputs": [
    {
     "data": {
      "text/plain": [
       "RandomForestRegressor(criterion='absolute_error', max_depth=20,\n",
       "                      min_samples_split=3, random_state=42)"
      ]
     },
     "execution_count": 134,
     "metadata": {},
     "output_type": "execute_result"
    }
   ],
   "source": [
    "rf_otimizado2.fit(X_train, y_train)"
   ]
  },
  {
   "cell_type": "code",
   "execution_count": 135,
   "id": "2108454a-03c0-49f7-8ed3-df0a90bd5a23",
   "metadata": {},
   "outputs": [],
   "source": [
    "predicao_rf_otimizado2 = rf_otimizado2.predict(X_test)"
   ]
  },
  {
   "cell_type": "code",
   "execution_count": 136,
   "id": "debf204d-1436-456c-bca0-b8e32932607d",
   "metadata": {},
   "outputs": [
    {
     "data": {
      "text/plain": [
       "0.7488487288292761"
      ]
     },
     "execution_count": 136,
     "metadata": {},
     "output_type": "execute_result"
    }
   ],
   "source": [
    "r2_score(y_test, predicao_rf_otimizado2)"
   ]
  },
  {
   "cell_type": "code",
   "execution_count": null,
   "id": "af4828fe-1667-4d48-a237-53063d3ad8a2",
   "metadata": {},
   "outputs": [],
   "source": [
    "# best"
   ]
  },
  {
   "cell_type": "code",
   "execution_count": 107,
   "id": "274bffe2-1229-4d88-ab4c-2b4a85de37f0",
   "metadata": {},
   "outputs": [],
   "source": [
    "rf_otimizado_best = RandomForestRegressor(random_state=42,\n",
    "                                      n_estimators=100,\n",
    "                                     # min_samples_split= 2,\n",
    "                                     # min_samples_leaf=1,\n",
    "                                     max_depth = 15,\n",
    "                                     criterion = 'squared_error')"
   ]
  },
  {
   "cell_type": "code",
   "execution_count": 108,
   "id": "6d7623af-b2cc-4c54-9509-f5255c19375e",
   "metadata": {},
   "outputs": [
    {
     "data": {
      "text/plain": [
       "RandomForestRegressor(max_depth=15, random_state=42)"
      ]
     },
     "execution_count": 108,
     "metadata": {},
     "output_type": "execute_result"
    }
   ],
   "source": [
    "rf_otimizado_best.fit(X_train, y_train)"
   ]
  },
  {
   "cell_type": "code",
   "execution_count": 109,
   "id": "f804abf7-7ae6-4406-baf0-ca21a1f8f9d9",
   "metadata": {},
   "outputs": [],
   "source": [
    "predicao_rf_otimizado_best = rf_otimizado_best.predict(X_test)"
   ]
  },
  {
   "cell_type": "code",
   "execution_count": 110,
   "id": "2fe6cbe6-e2fa-41d2-bba1-ada91af31d2d",
   "metadata": {},
   "outputs": [
    {
     "data": {
      "text/plain": [
       "0.751706332183583"
      ]
     },
     "execution_count": 110,
     "metadata": {},
     "output_type": "execute_result"
    }
   ],
   "source": [
    "r2_score(y_test, predicao_rf_otimizado_best)"
   ]
  }
 ],
 "metadata": {
  "kernelspec": {
   "display_name": "Python 3 (ipykernel)",
   "language": "python",
   "name": "python3"
  },
  "language_info": {
   "codemirror_mode": {
    "name": "ipython",
    "version": 3
   },
   "file_extension": ".py",
   "mimetype": "text/x-python",
   "name": "python",
   "nbconvert_exporter": "python",
   "pygments_lexer": "ipython3",
   "version": "3.9.12"
  }
 },
 "nbformat": 4,
 "nbformat_minor": 5
}
